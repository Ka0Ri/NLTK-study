{
 "cells": [
  {
   "cell_type": "markdown",
   "metadata": {},
   "source": [
    "# 5. Categorizing and Tagging Words"
   ]
  },
  {
   "cell_type": "code",
   "execution_count": 3,
   "metadata": {},
   "outputs": [
    {
     "output_type": "execute_result",
     "data": {
      "text/plain": "[('And', 'CC'),\n ('now', 'RB'),\n ('for', 'IN'),\n ('something', 'NN'),\n ('completely', 'RB'),\n ('different', 'JJ')]"
     },
     "metadata": {},
     "execution_count": 3
    }
   ],
   "source": [
    "import nltk\n",
    "from nltk import word_tokenize\n",
    "text = word_tokenize(\"And now for something completely different\")\n",
    "nltk.pos_tag(text)"
   ]
  },
  {
   "cell_type": "code",
   "execution_count": 4,
   "metadata": {},
   "outputs": [
    {
     "output_type": "execute_result",
     "data": {
      "text/plain": "[('They', 'PRP'),\n ('refuse', 'VBP'),\n ('to', 'TO'),\n ('permit', 'VB'),\n ('us', 'PRP'),\n ('to', 'TO'),\n ('obtain', 'VB'),\n ('the', 'DT'),\n ('refuse', 'NN'),\n ('permit', 'NN')]"
     },
     "metadata": {},
     "execution_count": 4
    }
   ],
   "source": [
    "text = word_tokenize(\"They refuse to permit us to obtain the refuse permit\")\n",
    "nltk.pos_tag(text)"
   ]
  },
  {
   "cell_type": "code",
   "execution_count": 5,
   "metadata": {
    "tags": []
   },
   "outputs": [
    {
     "output_type": "stream",
     "name": "stdout",
     "text": "man time day year car moment world house family child country boy\nstate job place way war girl work word\n"
    }
   ],
   "source": [
    "text = nltk.Text(word.lower() for word in nltk.corpus.brown.words())\n",
    "text.similar('woman')"
   ]
  },
  {
   "cell_type": "code",
   "execution_count": 6,
   "metadata": {
    "tags": []
   },
   "outputs": [
    {
     "output_type": "stream",
     "name": "stdout",
     "text": "made said done put had seen found given left heard was been brought\nset got that took in told felt\n"
    }
   ],
   "source": [
    "text.similar('bought')"
   ]
  },
  {
   "cell_type": "code",
   "execution_count": 7,
   "metadata": {
    "tags": []
   },
   "outputs": [
    {
     "output_type": "stream",
     "name": "stdout",
     "text": "in on to of and for with from at by that into as up out down through\nis all about\n"
    }
   ],
   "source": [
    "text.similar('over')"
   ]
  },
  {
   "cell_type": "code",
   "execution_count": 8,
   "metadata": {
    "tags": []
   },
   "outputs": [
    {
     "output_type": "stream",
     "name": "stdout",
     "text": "a his this their its her an that our any all one these my in your no\nsome other and\n"
    }
   ],
   "source": [
    "text.similar('the')"
   ]
  },
  {
   "cell_type": "code",
   "execution_count": 9,
   "metadata": {},
   "outputs": [
    {
     "output_type": "execute_result",
     "data": {
      "text/plain": "[('The', 'DET'), ('Fulton', 'NOUN'), ...]"
     },
     "metadata": {},
     "execution_count": 9
    }
   ],
   "source": [
    "nltk.corpus.brown.tagged_words(tagset='universal')"
   ]
  },
  {
   "cell_type": "code",
   "execution_count": 10,
   "metadata": {},
   "outputs": [
    {
     "output_type": "execute_result",
     "data": {
      "text/plain": "[('Confidence', 'NN'), ('in', 'IN'), ('the', 'DT'), ...]"
     },
     "metadata": {},
     "execution_count": 10
    }
   ],
   "source": [
    "nltk.corpus.conll2000.tagged_words()"
   ]
  },
  {
   "cell_type": "code",
   "execution_count": 11,
   "metadata": {},
   "outputs": [
    {
     "output_type": "execute_result",
     "data": {
      "text/plain": "[('Pierre', 'NOUN'), ('Vinken', 'NOUN'), (',', '.'), ...]"
     },
     "metadata": {},
     "execution_count": 11
    }
   ],
   "source": [
    "nltk.corpus.treebank.tagged_words(tagset='universal')"
   ]
  },
  {
   "cell_type": "code",
   "execution_count": 12,
   "metadata": {},
   "outputs": [
    {
     "output_type": "execute_result",
     "data": {
      "text/plain": "[('মহিষের', 'NN'), ('সন্তান', 'NN'), (':', 'SYM'), ...]"
     },
     "metadata": {},
     "execution_count": 12
    }
   ],
   "source": [
    "nltk.corpus.indian.tagged_words()"
   ]
  },
  {
   "cell_type": "code",
   "execution_count": 13,
   "metadata": {},
   "outputs": [
    {
     "output_type": "execute_result",
     "data": {
      "text/plain": "[('NOUN', 30654),\n ('VERB', 14399),\n ('ADP', 12355),\n ('.', 11928),\n ('DET', 11389),\n ('ADJ', 6706),\n ('ADV', 3349),\n ('CONJ', 2717),\n ('PRON', 2535),\n ('PRT', 2264),\n ('NUM', 2166),\n ('X', 92)]"
     },
     "metadata": {},
     "execution_count": 13
    }
   ],
   "source": [
    "from nltk.corpus import brown\n",
    "brown_news_tagged = brown.tagged_words(categories='news', tagset='universal')\n",
    "tag_fd = nltk.FreqDist(tag for (word, tag) in brown_news_tagged)\n",
    "tag_fd.most_common()"
   ]
  },
  {
   "cell_type": "code",
   "execution_count": 14,
   "metadata": {},
   "outputs": [
    {
     "output_type": "display_data",
     "data": {
      "text/plain": "<Figure size 432x288 with 1 Axes>",
      "image/svg+xml": "<?xml version=\"1.0\" encoding=\"utf-8\" standalone=\"no\"?>\r\n<!DOCTYPE svg PUBLIC \"-//W3C//DTD SVG 1.1//EN\"\r\n  \"http://www.w3.org/Graphics/SVG/1.1/DTD/svg11.dtd\">\r\n<!-- Created with matplotlib (https://matplotlib.org/) -->\r\n<svg height=\"282.67125pt\" version=\"1.1\" viewBox=\"0 0 408.053125 282.67125\" width=\"408.053125pt\" xmlns=\"http://www.w3.org/2000/svg\" xmlns:xlink=\"http://www.w3.org/1999/xlink\">\r\n <defs>\r\n  <style type=\"text/css\">\r\n*{stroke-linecap:butt;stroke-linejoin:round;}\r\n  </style>\r\n </defs>\r\n <g id=\"figure_1\">\r\n  <g id=\"patch_1\">\r\n   <path d=\"M 0 282.67125 \r\nL 408.053125 282.67125 \r\nL 408.053125 0 \r\nL 0 0 \r\nz\r\n\" style=\"fill:none;\"/>\r\n  </g>\r\n  <g id=\"axes_1\">\r\n   <g id=\"patch_2\">\r\n    <path d=\"M 66.053125 224.64 \r\nL 400.853125 224.64 \r\nL 400.853125 7.2 \r\nL 66.053125 7.2 \r\nz\r\n\" style=\"fill:#ffffff;\"/>\r\n   </g>\r\n   <g id=\"matplotlib.axis_1\">\r\n    <g id=\"xtick_1\">\r\n     <g id=\"line2d_1\">\r\n      <path clip-path=\"url(#pc27bd9cd15)\" d=\"M 81.271307 224.64 \r\nL 81.271307 7.2 \r\n\" style=\"fill:none;stroke:#c0c0c0;stroke-linecap:square;stroke-width:0.8;\"/>\r\n     </g>\r\n     <g id=\"line2d_2\">\r\n      <defs>\r\n       <path d=\"M 0 0 \r\nL 0 3.5 \r\n\" id=\"m2fab063691\" style=\"stroke:#000000;stroke-width:0.8;\"/>\r\n      </defs>\r\n      <g>\r\n       <use style=\"stroke:#000000;stroke-width:0.8;\" x=\"81.271307\" xlink:href=\"#m2fab063691\" y=\"224.64\"/>\r\n      </g>\r\n     </g>\r\n     <g id=\"text_1\">\r\n      <!-- NOUN -->\r\n      <defs>\r\n       <path d=\"M 9.8125 72.90625 \r\nL 23.09375 72.90625 \r\nL 55.421875 11.921875 \r\nL 55.421875 72.90625 \r\nL 64.984375 72.90625 \r\nL 64.984375 0 \r\nL 51.703125 0 \r\nL 19.390625 60.984375 \r\nL 19.390625 0 \r\nL 9.8125 0 \r\nz\r\n\" id=\"DejaVuSans-78\"/>\r\n       <path d=\"M 39.40625 66.21875 \r\nQ 28.65625 66.21875 22.328125 58.203125 \r\nQ 16.015625 50.203125 16.015625 36.375 \r\nQ 16.015625 22.609375 22.328125 14.59375 \r\nQ 28.65625 6.59375 39.40625 6.59375 \r\nQ 50.140625 6.59375 56.421875 14.59375 \r\nQ 62.703125 22.609375 62.703125 36.375 \r\nQ 62.703125 50.203125 56.421875 58.203125 \r\nQ 50.140625 66.21875 39.40625 66.21875 \r\nz\r\nM 39.40625 74.21875 \r\nQ 54.734375 74.21875 63.90625 63.9375 \r\nQ 73.09375 53.65625 73.09375 36.375 \r\nQ 73.09375 19.140625 63.90625 8.859375 \r\nQ 54.734375 -1.421875 39.40625 -1.421875 \r\nQ 24.03125 -1.421875 14.8125 8.828125 \r\nQ 5.609375 19.09375 5.609375 36.375 \r\nQ 5.609375 53.65625 14.8125 63.9375 \r\nQ 24.03125 74.21875 39.40625 74.21875 \r\nz\r\n\" id=\"DejaVuSans-79\"/>\r\n       <path d=\"M 8.6875 72.90625 \r\nL 18.609375 72.90625 \r\nL 18.609375 28.609375 \r\nQ 18.609375 16.890625 22.84375 11.734375 \r\nQ 27.09375 6.59375 36.625 6.59375 \r\nQ 46.09375 6.59375 50.34375 11.734375 \r\nQ 54.59375 16.890625 54.59375 28.609375 \r\nL 54.59375 72.90625 \r\nL 64.5 72.90625 \r\nL 64.5 27.390625 \r\nQ 64.5 13.140625 57.4375 5.859375 \r\nQ 50.390625 -1.421875 36.625 -1.421875 \r\nQ 22.796875 -1.421875 15.734375 5.859375 \r\nQ 8.6875 13.140625 8.6875 27.390625 \r\nz\r\n\" id=\"DejaVuSans-85\"/>\r\n      </defs>\r\n      <g transform=\"translate(84.030682 261.793125)rotate(-90)scale(0.1 -0.1)\">\r\n       <use xlink:href=\"#DejaVuSans-78\"/>\r\n       <use x=\"74.804688\" xlink:href=\"#DejaVuSans-79\"/>\r\n       <use x=\"153.515625\" xlink:href=\"#DejaVuSans-85\"/>\r\n       <use x=\"226.708984\" xlink:href=\"#DejaVuSans-78\"/>\r\n      </g>\r\n     </g>\r\n    </g>\r\n    <g id=\"xtick_2\">\r\n     <g id=\"line2d_3\">\r\n      <path clip-path=\"url(#pc27bd9cd15)\" d=\"M 108.940728 224.64 \r\nL 108.940728 7.2 \r\n\" style=\"fill:none;stroke:#c0c0c0;stroke-linecap:square;stroke-width:0.8;\"/>\r\n     </g>\r\n     <g id=\"line2d_4\">\r\n      <g>\r\n       <use style=\"stroke:#000000;stroke-width:0.8;\" x=\"108.940728\" xlink:href=\"#m2fab063691\" y=\"224.64\"/>\r\n      </g>\r\n     </g>\r\n     <g id=\"text_2\">\r\n      <!-- VERB -->\r\n      <defs>\r\n       <path d=\"M 28.609375 0 \r\nL 0.78125 72.90625 \r\nL 11.078125 72.90625 \r\nL 34.1875 11.53125 \r\nL 57.328125 72.90625 \r\nL 67.578125 72.90625 \r\nL 39.796875 0 \r\nz\r\n\" id=\"DejaVuSans-86\"/>\r\n       <path d=\"M 9.8125 72.90625 \r\nL 55.90625 72.90625 \r\nL 55.90625 64.59375 \r\nL 19.671875 64.59375 \r\nL 19.671875 43.015625 \r\nL 54.390625 43.015625 \r\nL 54.390625 34.71875 \r\nL 19.671875 34.71875 \r\nL 19.671875 8.296875 \r\nL 56.78125 8.296875 \r\nL 56.78125 0 \r\nL 9.8125 0 \r\nz\r\n\" id=\"DejaVuSans-69\"/>\r\n       <path d=\"M 44.390625 34.1875 \r\nQ 47.5625 33.109375 50.5625 29.59375 \r\nQ 53.5625 26.078125 56.59375 19.921875 \r\nL 66.609375 0 \r\nL 56 0 \r\nL 46.6875 18.703125 \r\nQ 43.0625 26.03125 39.671875 28.421875 \r\nQ 36.28125 30.8125 30.421875 30.8125 \r\nL 19.671875 30.8125 \r\nL 19.671875 0 \r\nL 9.8125 0 \r\nL 9.8125 72.90625 \r\nL 32.078125 72.90625 \r\nQ 44.578125 72.90625 50.734375 67.671875 \r\nQ 56.890625 62.453125 56.890625 51.90625 \r\nQ 56.890625 45.015625 53.6875 40.46875 \r\nQ 50.484375 35.9375 44.390625 34.1875 \r\nz\r\nM 19.671875 64.796875 \r\nL 19.671875 38.921875 \r\nL 32.078125 38.921875 \r\nQ 39.203125 38.921875 42.84375 42.21875 \r\nQ 46.484375 45.515625 46.484375 51.90625 \r\nQ 46.484375 58.296875 42.84375 61.546875 \r\nQ 39.203125 64.796875 32.078125 64.796875 \r\nz\r\n\" id=\"DejaVuSans-82\"/>\r\n       <path d=\"M 19.671875 34.8125 \r\nL 19.671875 8.109375 \r\nL 35.5 8.109375 \r\nQ 43.453125 8.109375 47.28125 11.40625 \r\nQ 51.125 14.703125 51.125 21.484375 \r\nQ 51.125 28.328125 47.28125 31.5625 \r\nQ 43.453125 34.8125 35.5 34.8125 \r\nz\r\nM 19.671875 64.796875 \r\nL 19.671875 42.828125 \r\nL 34.28125 42.828125 \r\nQ 41.5 42.828125 45.03125 45.53125 \r\nQ 48.578125 48.25 48.578125 53.8125 \r\nQ 48.578125 59.328125 45.03125 62.0625 \r\nQ 41.5 64.796875 34.28125 64.796875 \r\nz\r\nM 9.8125 72.90625 \r\nL 35.015625 72.90625 \r\nQ 46.296875 72.90625 52.390625 68.21875 \r\nQ 58.5 63.53125 58.5 54.890625 \r\nQ 58.5 48.1875 55.375 44.234375 \r\nQ 52.25 40.28125 46.1875 39.3125 \r\nQ 53.46875 37.75 57.5 32.78125 \r\nQ 61.53125 27.828125 61.53125 20.40625 \r\nQ 61.53125 10.640625 54.890625 5.3125 \r\nQ 48.25 0 35.984375 0 \r\nL 9.8125 0 \r\nz\r\n\" id=\"DejaVuSans-66\"/>\r\n      </defs>\r\n      <g transform=\"translate(111.700103 258.60875)rotate(-90)scale(0.1 -0.1)\">\r\n       <use xlink:href=\"#DejaVuSans-86\"/>\r\n       <use x=\"68.408203\" xlink:href=\"#DejaVuSans-69\"/>\r\n       <use x=\"131.591797\" xlink:href=\"#DejaVuSans-82\"/>\r\n       <use x=\"201.074219\" xlink:href=\"#DejaVuSans-66\"/>\r\n      </g>\r\n     </g>\r\n    </g>\r\n    <g id=\"xtick_3\">\r\n     <g id=\"line2d_5\">\r\n      <path clip-path=\"url(#pc27bd9cd15)\" d=\"M 136.61015 224.64 \r\nL 136.61015 7.2 \r\n\" style=\"fill:none;stroke:#c0c0c0;stroke-linecap:square;stroke-width:0.8;\"/>\r\n     </g>\r\n     <g id=\"line2d_6\">\r\n      <g>\r\n       <use style=\"stroke:#000000;stroke-width:0.8;\" x=\"136.61015\" xlink:href=\"#m2fab063691\" y=\"224.64\"/>\r\n      </g>\r\n     </g>\r\n     <g id=\"text_3\">\r\n      <!-- ADP -->\r\n      <defs>\r\n       <path d=\"M 34.1875 63.1875 \r\nL 20.796875 26.90625 \r\nL 47.609375 26.90625 \r\nz\r\nM 28.609375 72.90625 \r\nL 39.796875 72.90625 \r\nL 67.578125 0 \r\nL 57.328125 0 \r\nL 50.6875 18.703125 \r\nL 17.828125 18.703125 \r\nL 11.1875 0 \r\nL 0.78125 0 \r\nz\r\n\" id=\"DejaVuSans-65\"/>\r\n       <path d=\"M 19.671875 64.796875 \r\nL 19.671875 8.109375 \r\nL 31.59375 8.109375 \r\nQ 46.6875 8.109375 53.6875 14.9375 \r\nQ 60.6875 21.78125 60.6875 36.53125 \r\nQ 60.6875 51.171875 53.6875 57.984375 \r\nQ 46.6875 64.796875 31.59375 64.796875 \r\nz\r\nM 9.8125 72.90625 \r\nL 30.078125 72.90625 \r\nQ 51.265625 72.90625 61.171875 64.09375 \r\nQ 71.09375 55.28125 71.09375 36.53125 \r\nQ 71.09375 17.671875 61.125 8.828125 \r\nQ 51.171875 0 30.078125 0 \r\nL 9.8125 0 \r\nz\r\n\" id=\"DejaVuSans-68\"/>\r\n       <path d=\"M 19.671875 64.796875 \r\nL 19.671875 37.40625 \r\nL 32.078125 37.40625 \r\nQ 38.96875 37.40625 42.71875 40.96875 \r\nQ 46.484375 44.53125 46.484375 51.125 \r\nQ 46.484375 57.671875 42.71875 61.234375 \r\nQ 38.96875 64.796875 32.078125 64.796875 \r\nz\r\nM 9.8125 72.90625 \r\nL 32.078125 72.90625 \r\nQ 44.34375 72.90625 50.609375 67.359375 \r\nQ 56.890625 61.8125 56.890625 51.125 \r\nQ 56.890625 40.328125 50.609375 34.8125 \r\nQ 44.34375 29.296875 32.078125 29.296875 \r\nL 19.671875 29.296875 \r\nL 19.671875 0 \r\nL 9.8125 0 \r\nz\r\n\" id=\"DejaVuSans-80\"/>\r\n      </defs>\r\n      <g transform=\"translate(139.369525 252.210313)rotate(-90)scale(0.1 -0.1)\">\r\n       <use xlink:href=\"#DejaVuSans-65\"/>\r\n       <use x=\"68.408203\" xlink:href=\"#DejaVuSans-68\"/>\r\n       <use x=\"145.410156\" xlink:href=\"#DejaVuSans-80\"/>\r\n      </g>\r\n     </g>\r\n    </g>\r\n    <g id=\"xtick_4\">\r\n     <g id=\"line2d_7\">\r\n      <path clip-path=\"url(#pc27bd9cd15)\" d=\"M 164.279571 224.64 \r\nL 164.279571 7.2 \r\n\" style=\"fill:none;stroke:#c0c0c0;stroke-linecap:square;stroke-width:0.8;\"/>\r\n     </g>\r\n     <g id=\"line2d_8\">\r\n      <g>\r\n       <use style=\"stroke:#000000;stroke-width:0.8;\" x=\"164.279571\" xlink:href=\"#m2fab063691\" y=\"224.64\"/>\r\n      </g>\r\n     </g>\r\n     <g id=\"text_4\">\r\n      <!-- . -->\r\n      <defs>\r\n       <path d=\"M 10.6875 12.40625 \r\nL 21 12.40625 \r\nL 21 0 \r\nL 10.6875 0 \r\nz\r\n\" id=\"DejaVuSans-46\"/>\r\n      </defs>\r\n      <g transform=\"translate(167.038946 234.818125)rotate(-90)scale(0.1 -0.1)\">\r\n       <use xlink:href=\"#DejaVuSans-46\"/>\r\n      </g>\r\n     </g>\r\n    </g>\r\n    <g id=\"xtick_5\">\r\n     <g id=\"line2d_9\">\r\n      <path clip-path=\"url(#pc27bd9cd15)\" d=\"M 191.948993 224.64 \r\nL 191.948993 7.2 \r\n\" style=\"fill:none;stroke:#c0c0c0;stroke-linecap:square;stroke-width:0.8;\"/>\r\n     </g>\r\n     <g id=\"line2d_10\">\r\n      <g>\r\n       <use style=\"stroke:#000000;stroke-width:0.8;\" x=\"191.948993\" xlink:href=\"#m2fab063691\" y=\"224.64\"/>\r\n      </g>\r\n     </g>\r\n     <g id=\"text_5\">\r\n      <!-- DET -->\r\n      <defs>\r\n       <path d=\"M -0.296875 72.90625 \r\nL 61.375 72.90625 \r\nL 61.375 64.59375 \r\nL 35.5 64.59375 \r\nL 35.5 0 \r\nL 25.59375 0 \r\nL 25.59375 64.59375 \r\nL -0.296875 64.59375 \r\nz\r\n\" id=\"DejaVuSans-84\"/>\r\n      </defs>\r\n      <g transform=\"translate(194.708368 251.766563)rotate(-90)scale(0.1 -0.1)\">\r\n       <use xlink:href=\"#DejaVuSans-68\"/>\r\n       <use x=\"77.001953\" xlink:href=\"#DejaVuSans-69\"/>\r\n       <use x=\"140.185547\" xlink:href=\"#DejaVuSans-84\"/>\r\n      </g>\r\n     </g>\r\n    </g>\r\n    <g id=\"xtick_6\">\r\n     <g id=\"line2d_11\">\r\n      <path clip-path=\"url(#pc27bd9cd15)\" d=\"M 219.618414 224.64 \r\nL 219.618414 7.2 \r\n\" style=\"fill:none;stroke:#c0c0c0;stroke-linecap:square;stroke-width:0.8;\"/>\r\n     </g>\r\n     <g id=\"line2d_12\">\r\n      <g>\r\n       <use style=\"stroke:#000000;stroke-width:0.8;\" x=\"219.618414\" xlink:href=\"#m2fab063691\" y=\"224.64\"/>\r\n      </g>\r\n     </g>\r\n     <g id=\"text_6\">\r\n      <!-- ADJ -->\r\n      <defs>\r\n       <path d=\"M 9.8125 72.90625 \r\nL 19.671875 72.90625 \r\nL 19.671875 5.078125 \r\nQ 19.671875 -8.109375 14.671875 -14.0625 \r\nQ 9.671875 -20.015625 -1.421875 -20.015625 \r\nL -5.171875 -20.015625 \r\nL -5.171875 -11.71875 \r\nL -2.09375 -11.71875 \r\nQ 4.4375 -11.71875 7.125 -8.046875 \r\nQ 9.8125 -4.390625 9.8125 5.078125 \r\nz\r\n\" id=\"DejaVuSans-74\"/>\r\n      </defs>\r\n      <g transform=\"translate(222.377789 249.130625)rotate(-90)scale(0.1 -0.1)\">\r\n       <use xlink:href=\"#DejaVuSans-65\"/>\r\n       <use x=\"68.408203\" xlink:href=\"#DejaVuSans-68\"/>\r\n       <use x=\"145.410156\" xlink:href=\"#DejaVuSans-74\"/>\r\n      </g>\r\n     </g>\r\n    </g>\r\n    <g id=\"xtick_7\">\r\n     <g id=\"line2d_13\">\r\n      <path clip-path=\"url(#pc27bd9cd15)\" d=\"M 247.287836 224.64 \r\nL 247.287836 7.2 \r\n\" style=\"fill:none;stroke:#c0c0c0;stroke-linecap:square;stroke-width:0.8;\"/>\r\n     </g>\r\n     <g id=\"line2d_14\">\r\n      <g>\r\n       <use style=\"stroke:#000000;stroke-width:0.8;\" x=\"247.287836\" xlink:href=\"#m2fab063691\" y=\"224.64\"/>\r\n      </g>\r\n     </g>\r\n     <g id=\"text_7\">\r\n      <!-- ADV -->\r\n      <g transform=\"translate(250.047211 253.019688)rotate(-90)scale(0.1 -0.1)\">\r\n       <use xlink:href=\"#DejaVuSans-65\"/>\r\n       <use x=\"68.408203\" xlink:href=\"#DejaVuSans-68\"/>\r\n       <use x=\"145.394531\" xlink:href=\"#DejaVuSans-86\"/>\r\n      </g>\r\n     </g>\r\n    </g>\r\n    <g id=\"xtick_8\">\r\n     <g id=\"line2d_15\">\r\n      <path clip-path=\"url(#pc27bd9cd15)\" d=\"M 274.957257 224.64 \r\nL 274.957257 7.2 \r\n\" style=\"fill:none;stroke:#c0c0c0;stroke-linecap:square;stroke-width:0.8;\"/>\r\n     </g>\r\n     <g id=\"line2d_16\">\r\n      <g>\r\n       <use style=\"stroke:#000000;stroke-width:0.8;\" x=\"274.957257\" xlink:href=\"#m2fab063691\" y=\"224.64\"/>\r\n      </g>\r\n     </g>\r\n     <g id=\"text_8\">\r\n      <!-- CONJ -->\r\n      <defs>\r\n       <path d=\"M 64.40625 67.28125 \r\nL 64.40625 56.890625 \r\nQ 59.421875 61.53125 53.78125 63.8125 \r\nQ 48.140625 66.109375 41.796875 66.109375 \r\nQ 29.296875 66.109375 22.65625 58.46875 \r\nQ 16.015625 50.828125 16.015625 36.375 \r\nQ 16.015625 21.96875 22.65625 14.328125 \r\nQ 29.296875 6.6875 41.796875 6.6875 \r\nQ 48.140625 6.6875 53.78125 8.984375 \r\nQ 59.421875 11.28125 64.40625 15.921875 \r\nL 64.40625 5.609375 \r\nQ 59.234375 2.09375 53.4375 0.328125 \r\nQ 47.65625 -1.421875 41.21875 -1.421875 \r\nQ 24.65625 -1.421875 15.125 8.703125 \r\nQ 5.609375 18.84375 5.609375 36.375 \r\nQ 5.609375 53.953125 15.125 64.078125 \r\nQ 24.65625 74.21875 41.21875 74.21875 \r\nQ 47.75 74.21875 53.53125 72.484375 \r\nQ 59.328125 70.75 64.40625 67.28125 \r\nz\r\n\" id=\"DejaVuSans-67\"/>\r\n      </defs>\r\n      <g transform=\"translate(277.716632 256.925938)rotate(-90)scale(0.1 -0.1)\">\r\n       <use xlink:href=\"#DejaVuSans-67\"/>\r\n       <use x=\"69.824219\" xlink:href=\"#DejaVuSans-79\"/>\r\n       <use x=\"148.535156\" xlink:href=\"#DejaVuSans-78\"/>\r\n       <use x=\"223.339844\" xlink:href=\"#DejaVuSans-74\"/>\r\n      </g>\r\n     </g>\r\n    </g>\r\n    <g id=\"xtick_9\">\r\n     <g id=\"line2d_17\">\r\n      <path clip-path=\"url(#pc27bd9cd15)\" d=\"M 302.626679 224.64 \r\nL 302.626679 7.2 \r\n\" style=\"fill:none;stroke:#c0c0c0;stroke-linecap:square;stroke-width:0.8;\"/>\r\n     </g>\r\n     <g id=\"line2d_18\">\r\n      <g>\r\n       <use style=\"stroke:#000000;stroke-width:0.8;\" x=\"302.626679\" xlink:href=\"#m2fab063691\" y=\"224.64\"/>\r\n      </g>\r\n     </g>\r\n     <g id=\"text_9\">\r\n      <!-- PRON -->\r\n      <g transform=\"translate(305.386054 259.97125)rotate(-90)scale(0.1 -0.1)\">\r\n       <use xlink:href=\"#DejaVuSans-80\"/>\r\n       <use x=\"60.302734\" xlink:href=\"#DejaVuSans-82\"/>\r\n       <use x=\"129.785156\" xlink:href=\"#DejaVuSans-79\"/>\r\n       <use x=\"208.496094\" xlink:href=\"#DejaVuSans-78\"/>\r\n      </g>\r\n     </g>\r\n    </g>\r\n    <g id=\"xtick_10\">\r\n     <g id=\"line2d_19\">\r\n      <path clip-path=\"url(#pc27bd9cd15)\" d=\"M 330.2961 224.64 \r\nL 330.2961 7.2 \r\n\" style=\"fill:none;stroke:#c0c0c0;stroke-linecap:square;stroke-width:0.8;\"/>\r\n     </g>\r\n     <g id=\"line2d_20\">\r\n      <g>\r\n       <use style=\"stroke:#000000;stroke-width:0.8;\" x=\"330.2961\" xlink:href=\"#m2fab063691\" y=\"224.64\"/>\r\n      </g>\r\n     </g>\r\n     <g id=\"text_10\">\r\n      <!-- PRT -->\r\n      <g transform=\"translate(333.055475 250.715)rotate(-90)scale(0.1 -0.1)\">\r\n       <use xlink:href=\"#DejaVuSans-80\"/>\r\n       <use x=\"60.302734\" xlink:href=\"#DejaVuSans-82\"/>\r\n       <use x=\"129.675781\" xlink:href=\"#DejaVuSans-84\"/>\r\n      </g>\r\n     </g>\r\n    </g>\r\n    <g id=\"xtick_11\">\r\n     <g id=\"line2d_21\">\r\n      <path clip-path=\"url(#pc27bd9cd15)\" d=\"M 357.965522 224.64 \r\nL 357.965522 7.2 \r\n\" style=\"fill:none;stroke:#c0c0c0;stroke-linecap:square;stroke-width:0.8;\"/>\r\n     </g>\r\n     <g id=\"line2d_22\">\r\n      <g>\r\n       <use style=\"stroke:#000000;stroke-width:0.8;\" x=\"357.965522\" xlink:href=\"#m2fab063691\" y=\"224.64\"/>\r\n      </g>\r\n     </g>\r\n     <g id=\"text_11\">\r\n      <!-- NUM -->\r\n      <defs>\r\n       <path d=\"M 9.8125 72.90625 \r\nL 24.515625 72.90625 \r\nL 43.109375 23.296875 \r\nL 61.8125 72.90625 \r\nL 76.515625 72.90625 \r\nL 76.515625 0 \r\nL 66.890625 0 \r\nL 66.890625 64.015625 \r\nL 48.09375 14.015625 \r\nL 38.1875 14.015625 \r\nL 19.390625 64.015625 \r\nL 19.390625 0 \r\nL 9.8125 0 \r\nz\r\n\" id=\"DejaVuSans-77\"/>\r\n      </defs>\r\n      <g transform=\"translate(360.724897 255.068125)rotate(-90)scale(0.1 -0.1)\">\r\n       <use xlink:href=\"#DejaVuSans-78\"/>\r\n       <use x=\"74.804688\" xlink:href=\"#DejaVuSans-85\"/>\r\n       <use x=\"147.998047\" xlink:href=\"#DejaVuSans-77\"/>\r\n      </g>\r\n     </g>\r\n    </g>\r\n    <g id=\"xtick_12\">\r\n     <g id=\"line2d_23\">\r\n      <path clip-path=\"url(#pc27bd9cd15)\" d=\"M 385.634943 224.64 \r\nL 385.634943 7.2 \r\n\" style=\"fill:none;stroke:#c0c0c0;stroke-linecap:square;stroke-width:0.8;\"/>\r\n     </g>\r\n     <g id=\"line2d_24\">\r\n      <g>\r\n       <use style=\"stroke:#000000;stroke-width:0.8;\" x=\"385.634943\" xlink:href=\"#m2fab063691\" y=\"224.64\"/>\r\n      </g>\r\n     </g>\r\n     <g id=\"text_12\">\r\n      <!-- X -->\r\n      <defs>\r\n       <path d=\"M 6.296875 72.90625 \r\nL 16.890625 72.90625 \r\nL 35.015625 45.796875 \r\nL 53.21875 72.90625 \r\nL 63.8125 72.90625 \r\nL 40.375 37.890625 \r\nL 65.375 0 \r\nL 54.78125 0 \r\nL 34.28125 31 \r\nL 13.625 0 \r\nL 2.984375 0 \r\nL 29 38.921875 \r\nz\r\n\" id=\"DejaVuSans-88\"/>\r\n      </defs>\r\n      <g transform=\"translate(388.394318 238.49)rotate(-90)scale(0.1 -0.1)\">\r\n       <use xlink:href=\"#DejaVuSans-88\"/>\r\n      </g>\r\n     </g>\r\n    </g>\r\n    <g id=\"text_13\">\r\n     <!-- Samples -->\r\n     <defs>\r\n      <path d=\"M 53.515625 70.515625 \r\nL 53.515625 60.890625 \r\nQ 47.90625 63.578125 42.921875 64.890625 \r\nQ 37.9375 66.21875 33.296875 66.21875 \r\nQ 25.25 66.21875 20.875 63.09375 \r\nQ 16.5 59.96875 16.5 54.203125 \r\nQ 16.5 49.359375 19.40625 46.890625 \r\nQ 22.3125 44.4375 30.421875 42.921875 \r\nL 36.375 41.703125 \r\nQ 47.40625 39.59375 52.65625 34.296875 \r\nQ 57.90625 29 57.90625 20.125 \r\nQ 57.90625 9.515625 50.796875 4.046875 \r\nQ 43.703125 -1.421875 29.984375 -1.421875 \r\nQ 24.8125 -1.421875 18.96875 -0.25 \r\nQ 13.140625 0.921875 6.890625 3.21875 \r\nL 6.890625 13.375 \r\nQ 12.890625 10.015625 18.65625 8.296875 \r\nQ 24.421875 6.59375 29.984375 6.59375 \r\nQ 38.421875 6.59375 43.015625 9.90625 \r\nQ 47.609375 13.234375 47.609375 19.390625 \r\nQ 47.609375 24.75 44.3125 27.78125 \r\nQ 41.015625 30.8125 33.5 32.328125 \r\nL 27.484375 33.5 \r\nQ 16.453125 35.6875 11.515625 40.375 \r\nQ 6.59375 45.0625 6.59375 53.421875 \r\nQ 6.59375 63.09375 13.40625 68.65625 \r\nQ 20.21875 74.21875 32.171875 74.21875 \r\nQ 37.3125 74.21875 42.625 73.28125 \r\nQ 47.953125 72.359375 53.515625 70.515625 \r\nz\r\n\" id=\"DejaVuSans-83\"/>\r\n      <path d=\"M 34.28125 27.484375 \r\nQ 23.390625 27.484375 19.1875 25 \r\nQ 14.984375 22.515625 14.984375 16.5 \r\nQ 14.984375 11.71875 18.140625 8.90625 \r\nQ 21.296875 6.109375 26.703125 6.109375 \r\nQ 34.1875 6.109375 38.703125 11.40625 \r\nQ 43.21875 16.703125 43.21875 25.484375 \r\nL 43.21875 27.484375 \r\nz\r\nM 52.203125 31.203125 \r\nL 52.203125 0 \r\nL 43.21875 0 \r\nL 43.21875 8.296875 \r\nQ 40.140625 3.328125 35.546875 0.953125 \r\nQ 30.953125 -1.421875 24.3125 -1.421875 \r\nQ 15.921875 -1.421875 10.953125 3.296875 \r\nQ 6 8.015625 6 15.921875 \r\nQ 6 25.140625 12.171875 29.828125 \r\nQ 18.359375 34.515625 30.609375 34.515625 \r\nL 43.21875 34.515625 \r\nL 43.21875 35.40625 \r\nQ 43.21875 41.609375 39.140625 45 \r\nQ 35.0625 48.390625 27.6875 48.390625 \r\nQ 23 48.390625 18.546875 47.265625 \r\nQ 14.109375 46.140625 10.015625 43.890625 \r\nL 10.015625 52.203125 \r\nQ 14.9375 54.109375 19.578125 55.046875 \r\nQ 24.21875 56 28.609375 56 \r\nQ 40.484375 56 46.34375 49.84375 \r\nQ 52.203125 43.703125 52.203125 31.203125 \r\nz\r\n\" id=\"DejaVuSans-97\"/>\r\n      <path d=\"M 52 44.1875 \r\nQ 55.375 50.25 60.0625 53.125 \r\nQ 64.75 56 71.09375 56 \r\nQ 79.640625 56 84.28125 50.015625 \r\nQ 88.921875 44.046875 88.921875 33.015625 \r\nL 88.921875 0 \r\nL 79.890625 0 \r\nL 79.890625 32.71875 \r\nQ 79.890625 40.578125 77.09375 44.375 \r\nQ 74.3125 48.1875 68.609375 48.1875 \r\nQ 61.625 48.1875 57.5625 43.546875 \r\nQ 53.515625 38.921875 53.515625 30.90625 \r\nL 53.515625 0 \r\nL 44.484375 0 \r\nL 44.484375 32.71875 \r\nQ 44.484375 40.625 41.703125 44.40625 \r\nQ 38.921875 48.1875 33.109375 48.1875 \r\nQ 26.21875 48.1875 22.15625 43.53125 \r\nQ 18.109375 38.875 18.109375 30.90625 \r\nL 18.109375 0 \r\nL 9.078125 0 \r\nL 9.078125 54.6875 \r\nL 18.109375 54.6875 \r\nL 18.109375 46.1875 \r\nQ 21.1875 51.21875 25.484375 53.609375 \r\nQ 29.78125 56 35.6875 56 \r\nQ 41.65625 56 45.828125 52.96875 \r\nQ 50 49.953125 52 44.1875 \r\nz\r\n\" id=\"DejaVuSans-109\"/>\r\n      <path d=\"M 18.109375 8.203125 \r\nL 18.109375 -20.796875 \r\nL 9.078125 -20.796875 \r\nL 9.078125 54.6875 \r\nL 18.109375 54.6875 \r\nL 18.109375 46.390625 \r\nQ 20.953125 51.265625 25.265625 53.625 \r\nQ 29.59375 56 35.59375 56 \r\nQ 45.5625 56 51.78125 48.09375 \r\nQ 58.015625 40.1875 58.015625 27.296875 \r\nQ 58.015625 14.40625 51.78125 6.484375 \r\nQ 45.5625 -1.421875 35.59375 -1.421875 \r\nQ 29.59375 -1.421875 25.265625 0.953125 \r\nQ 20.953125 3.328125 18.109375 8.203125 \r\nz\r\nM 48.6875 27.296875 \r\nQ 48.6875 37.203125 44.609375 42.84375 \r\nQ 40.53125 48.484375 33.40625 48.484375 \r\nQ 26.265625 48.484375 22.1875 42.84375 \r\nQ 18.109375 37.203125 18.109375 27.296875 \r\nQ 18.109375 17.390625 22.1875 11.75 \r\nQ 26.265625 6.109375 33.40625 6.109375 \r\nQ 40.53125 6.109375 44.609375 11.75 \r\nQ 48.6875 17.390625 48.6875 27.296875 \r\nz\r\n\" id=\"DejaVuSans-112\"/>\r\n      <path d=\"M 9.421875 75.984375 \r\nL 18.40625 75.984375 \r\nL 18.40625 0 \r\nL 9.421875 0 \r\nz\r\n\" id=\"DejaVuSans-108\"/>\r\n      <path d=\"M 56.203125 29.59375 \r\nL 56.203125 25.203125 \r\nL 14.890625 25.203125 \r\nQ 15.484375 15.921875 20.484375 11.0625 \r\nQ 25.484375 6.203125 34.421875 6.203125 \r\nQ 39.59375 6.203125 44.453125 7.46875 \r\nQ 49.3125 8.734375 54.109375 11.28125 \r\nL 54.109375 2.78125 \r\nQ 49.265625 0.734375 44.1875 -0.34375 \r\nQ 39.109375 -1.421875 33.890625 -1.421875 \r\nQ 20.796875 -1.421875 13.15625 6.1875 \r\nQ 5.515625 13.8125 5.515625 26.8125 \r\nQ 5.515625 40.234375 12.765625 48.109375 \r\nQ 20.015625 56 32.328125 56 \r\nQ 43.359375 56 49.78125 48.890625 \r\nQ 56.203125 41.796875 56.203125 29.59375 \r\nz\r\nM 47.21875 32.234375 \r\nQ 47.125 39.59375 43.09375 43.984375 \r\nQ 39.0625 48.390625 32.421875 48.390625 \r\nQ 24.90625 48.390625 20.390625 44.140625 \r\nQ 15.875 39.890625 15.1875 32.171875 \r\nz\r\n\" id=\"DejaVuSans-101\"/>\r\n      <path d=\"M 44.28125 53.078125 \r\nL 44.28125 44.578125 \r\nQ 40.484375 46.53125 36.375 47.5 \r\nQ 32.28125 48.484375 27.875 48.484375 \r\nQ 21.1875 48.484375 17.84375 46.4375 \r\nQ 14.5 44.390625 14.5 40.28125 \r\nQ 14.5 37.15625 16.890625 35.375 \r\nQ 19.28125 33.59375 26.515625 31.984375 \r\nL 29.59375 31.296875 \r\nQ 39.15625 29.25 43.1875 25.515625 \r\nQ 47.21875 21.78125 47.21875 15.09375 \r\nQ 47.21875 7.46875 41.1875 3.015625 \r\nQ 35.15625 -1.421875 24.609375 -1.421875 \r\nQ 20.21875 -1.421875 15.453125 -0.5625 \r\nQ 10.6875 0.296875 5.421875 2 \r\nL 5.421875 11.28125 \r\nQ 10.40625 8.6875 15.234375 7.390625 \r\nQ 20.0625 6.109375 24.8125 6.109375 \r\nQ 31.15625 6.109375 34.5625 8.28125 \r\nQ 37.984375 10.453125 37.984375 14.40625 \r\nQ 37.984375 18.0625 35.515625 20.015625 \r\nQ 33.0625 21.96875 24.703125 23.78125 \r\nL 21.578125 24.515625 \r\nQ 13.234375 26.265625 9.515625 29.90625 \r\nQ 5.8125 33.546875 5.8125 39.890625 \r\nQ 5.8125 47.609375 11.28125 51.796875 \r\nQ 16.75 56 26.8125 56 \r\nQ 31.78125 56 36.171875 55.265625 \r\nQ 40.578125 54.546875 44.28125 53.078125 \r\nz\r\n\" id=\"DejaVuSans-115\"/>\r\n     </defs>\r\n     <g transform=\"translate(212.1 273.391563)scale(0.1 -0.1)\">\r\n      <use xlink:href=\"#DejaVuSans-83\"/>\r\n      <use x=\"63.476562\" xlink:href=\"#DejaVuSans-97\"/>\r\n      <use x=\"124.755859\" xlink:href=\"#DejaVuSans-109\"/>\r\n      <use x=\"222.167969\" xlink:href=\"#DejaVuSans-112\"/>\r\n      <use x=\"285.644531\" xlink:href=\"#DejaVuSans-108\"/>\r\n      <use x=\"313.427734\" xlink:href=\"#DejaVuSans-101\"/>\r\n      <use x=\"374.951172\" xlink:href=\"#DejaVuSans-115\"/>\r\n     </g>\r\n    </g>\r\n   </g>\r\n   <g id=\"matplotlib.axis_2\">\r\n    <g id=\"ytick_1\">\r\n     <g id=\"line2d_25\">\r\n      <path clip-path=\"url(#pc27bd9cd15)\" d=\"M 66.053125 216.605834 \r\nL 400.853125 216.605834 \r\n\" style=\"fill:none;stroke:#c0c0c0;stroke-linecap:square;stroke-width:0.8;\"/>\r\n     </g>\r\n     <g id=\"line2d_26\">\r\n      <defs>\r\n       <path d=\"M 0 0 \r\nL -3.5 0 \r\n\" id=\"mfabf5e42e0\" style=\"stroke:#000000;stroke-width:0.8;\"/>\r\n      </defs>\r\n      <g>\r\n       <use style=\"stroke:#000000;stroke-width:0.8;\" x=\"66.053125\" xlink:href=\"#mfabf5e42e0\" y=\"216.605834\"/>\r\n      </g>\r\n     </g>\r\n     <g id=\"text_14\">\r\n      <!-- 30000 -->\r\n      <defs>\r\n       <path d=\"M 40.578125 39.3125 \r\nQ 47.65625 37.796875 51.625 33 \r\nQ 55.609375 28.21875 55.609375 21.1875 \r\nQ 55.609375 10.40625 48.1875 4.484375 \r\nQ 40.765625 -1.421875 27.09375 -1.421875 \r\nQ 22.515625 -1.421875 17.65625 -0.515625 \r\nQ 12.796875 0.390625 7.625 2.203125 \r\nL 7.625 11.71875 \r\nQ 11.71875 9.328125 16.59375 8.109375 \r\nQ 21.484375 6.890625 26.8125 6.890625 \r\nQ 36.078125 6.890625 40.9375 10.546875 \r\nQ 45.796875 14.203125 45.796875 21.1875 \r\nQ 45.796875 27.640625 41.28125 31.265625 \r\nQ 36.765625 34.90625 28.71875 34.90625 \r\nL 20.21875 34.90625 \r\nL 20.21875 43.015625 \r\nL 29.109375 43.015625 \r\nQ 36.375 43.015625 40.234375 45.921875 \r\nQ 44.09375 48.828125 44.09375 54.296875 \r\nQ 44.09375 59.90625 40.109375 62.90625 \r\nQ 36.140625 65.921875 28.71875 65.921875 \r\nQ 24.65625 65.921875 20.015625 65.03125 \r\nQ 15.375 64.15625 9.8125 62.3125 \r\nL 9.8125 71.09375 \r\nQ 15.4375 72.65625 20.34375 73.4375 \r\nQ 25.25 74.21875 29.59375 74.21875 \r\nQ 40.828125 74.21875 47.359375 69.109375 \r\nQ 53.90625 64.015625 53.90625 55.328125 \r\nQ 53.90625 49.265625 50.4375 45.09375 \r\nQ 46.96875 40.921875 40.578125 39.3125 \r\nz\r\n\" id=\"DejaVuSans-51\"/>\r\n       <path d=\"M 31.78125 66.40625 \r\nQ 24.171875 66.40625 20.328125 58.90625 \r\nQ 16.5 51.421875 16.5 36.375 \r\nQ 16.5 21.390625 20.328125 13.890625 \r\nQ 24.171875 6.390625 31.78125 6.390625 \r\nQ 39.453125 6.390625 43.28125 13.890625 \r\nQ 47.125 21.390625 47.125 36.375 \r\nQ 47.125 51.421875 43.28125 58.90625 \r\nQ 39.453125 66.40625 31.78125 66.40625 \r\nz\r\nM 31.78125 74.21875 \r\nQ 44.046875 74.21875 50.515625 64.515625 \r\nQ 56.984375 54.828125 56.984375 36.375 \r\nQ 56.984375 17.96875 50.515625 8.265625 \r\nQ 44.046875 -1.421875 31.78125 -1.421875 \r\nQ 19.53125 -1.421875 13.0625 8.265625 \r\nQ 6.59375 17.96875 6.59375 36.375 \r\nQ 6.59375 54.828125 13.0625 64.515625 \r\nQ 19.53125 74.21875 31.78125 74.21875 \r\nz\r\n\" id=\"DejaVuSans-48\"/>\r\n      </defs>\r\n      <g transform=\"translate(27.240625 220.405053)scale(0.1 -0.1)\">\r\n       <use xlink:href=\"#DejaVuSans-51\"/>\r\n       <use x=\"63.623047\" xlink:href=\"#DejaVuSans-48\"/>\r\n       <use x=\"127.246094\" xlink:href=\"#DejaVuSans-48\"/>\r\n       <use x=\"190.869141\" xlink:href=\"#DejaVuSans-48\"/>\r\n       <use x=\"254.492188\" xlink:href=\"#DejaVuSans-48\"/>\r\n      </g>\r\n     </g>\r\n    </g>\r\n    <g id=\"ytick_2\">\r\n     <g id=\"line2d_27\">\r\n      <path clip-path=\"url(#pc27bd9cd15)\" d=\"M 66.053125 188.326474 \r\nL 400.853125 188.326474 \r\n\" style=\"fill:none;stroke:#c0c0c0;stroke-linecap:square;stroke-width:0.8;\"/>\r\n     </g>\r\n     <g id=\"line2d_28\">\r\n      <g>\r\n       <use style=\"stroke:#000000;stroke-width:0.8;\" x=\"66.053125\" xlink:href=\"#mfabf5e42e0\" y=\"188.326474\"/>\r\n      </g>\r\n     </g>\r\n     <g id=\"text_15\">\r\n      <!-- 40000 -->\r\n      <defs>\r\n       <path d=\"M 37.796875 64.3125 \r\nL 12.890625 25.390625 \r\nL 37.796875 25.390625 \r\nz\r\nM 35.203125 72.90625 \r\nL 47.609375 72.90625 \r\nL 47.609375 25.390625 \r\nL 58.015625 25.390625 \r\nL 58.015625 17.1875 \r\nL 47.609375 17.1875 \r\nL 47.609375 0 \r\nL 37.796875 0 \r\nL 37.796875 17.1875 \r\nL 4.890625 17.1875 \r\nL 4.890625 26.703125 \r\nz\r\n\" id=\"DejaVuSans-52\"/>\r\n      </defs>\r\n      <g transform=\"translate(27.240625 192.125692)scale(0.1 -0.1)\">\r\n       <use xlink:href=\"#DejaVuSans-52\"/>\r\n       <use x=\"63.623047\" xlink:href=\"#DejaVuSans-48\"/>\r\n       <use x=\"127.246094\" xlink:href=\"#DejaVuSans-48\"/>\r\n       <use x=\"190.869141\" xlink:href=\"#DejaVuSans-48\"/>\r\n       <use x=\"254.492188\" xlink:href=\"#DejaVuSans-48\"/>\r\n      </g>\r\n     </g>\r\n    </g>\r\n    <g id=\"ytick_3\">\r\n     <g id=\"line2d_29\">\r\n      <path clip-path=\"url(#pc27bd9cd15)\" d=\"M 66.053125 160.047114 \r\nL 400.853125 160.047114 \r\n\" style=\"fill:none;stroke:#c0c0c0;stroke-linecap:square;stroke-width:0.8;\"/>\r\n     </g>\r\n     <g id=\"line2d_30\">\r\n      <g>\r\n       <use style=\"stroke:#000000;stroke-width:0.8;\" x=\"66.053125\" xlink:href=\"#mfabf5e42e0\" y=\"160.047114\"/>\r\n      </g>\r\n     </g>\r\n     <g id=\"text_16\">\r\n      <!-- 50000 -->\r\n      <defs>\r\n       <path d=\"M 10.796875 72.90625 \r\nL 49.515625 72.90625 \r\nL 49.515625 64.59375 \r\nL 19.828125 64.59375 \r\nL 19.828125 46.734375 \r\nQ 21.96875 47.46875 24.109375 47.828125 \r\nQ 26.265625 48.1875 28.421875 48.1875 \r\nQ 40.625 48.1875 47.75 41.5 \r\nQ 54.890625 34.8125 54.890625 23.390625 \r\nQ 54.890625 11.625 47.5625 5.09375 \r\nQ 40.234375 -1.421875 26.90625 -1.421875 \r\nQ 22.3125 -1.421875 17.546875 -0.640625 \r\nQ 12.796875 0.140625 7.71875 1.703125 \r\nL 7.71875 11.625 \r\nQ 12.109375 9.234375 16.796875 8.0625 \r\nQ 21.484375 6.890625 26.703125 6.890625 \r\nQ 35.15625 6.890625 40.078125 11.328125 \r\nQ 45.015625 15.765625 45.015625 23.390625 \r\nQ 45.015625 31 40.078125 35.4375 \r\nQ 35.15625 39.890625 26.703125 39.890625 \r\nQ 22.75 39.890625 18.8125 39.015625 \r\nQ 14.890625 38.140625 10.796875 36.28125 \r\nz\r\n\" id=\"DejaVuSans-53\"/>\r\n      </defs>\r\n      <g transform=\"translate(27.240625 163.846332)scale(0.1 -0.1)\">\r\n       <use xlink:href=\"#DejaVuSans-53\"/>\r\n       <use x=\"63.623047\" xlink:href=\"#DejaVuSans-48\"/>\r\n       <use x=\"127.246094\" xlink:href=\"#DejaVuSans-48\"/>\r\n       <use x=\"190.869141\" xlink:href=\"#DejaVuSans-48\"/>\r\n       <use x=\"254.492188\" xlink:href=\"#DejaVuSans-48\"/>\r\n      </g>\r\n     </g>\r\n    </g>\r\n    <g id=\"ytick_4\">\r\n     <g id=\"line2d_31\">\r\n      <path clip-path=\"url(#pc27bd9cd15)\" d=\"M 66.053125 131.767753 \r\nL 400.853125 131.767753 \r\n\" style=\"fill:none;stroke:#c0c0c0;stroke-linecap:square;stroke-width:0.8;\"/>\r\n     </g>\r\n     <g id=\"line2d_32\">\r\n      <g>\r\n       <use style=\"stroke:#000000;stroke-width:0.8;\" x=\"66.053125\" xlink:href=\"#mfabf5e42e0\" y=\"131.767753\"/>\r\n      </g>\r\n     </g>\r\n     <g id=\"text_17\">\r\n      <!-- 60000 -->\r\n      <defs>\r\n       <path d=\"M 33.015625 40.375 \r\nQ 26.375 40.375 22.484375 35.828125 \r\nQ 18.609375 31.296875 18.609375 23.390625 \r\nQ 18.609375 15.53125 22.484375 10.953125 \r\nQ 26.375 6.390625 33.015625 6.390625 \r\nQ 39.65625 6.390625 43.53125 10.953125 \r\nQ 47.40625 15.53125 47.40625 23.390625 \r\nQ 47.40625 31.296875 43.53125 35.828125 \r\nQ 39.65625 40.375 33.015625 40.375 \r\nz\r\nM 52.59375 71.296875 \r\nL 52.59375 62.3125 \r\nQ 48.875 64.0625 45.09375 64.984375 \r\nQ 41.3125 65.921875 37.59375 65.921875 \r\nQ 27.828125 65.921875 22.671875 59.328125 \r\nQ 17.53125 52.734375 16.796875 39.40625 \r\nQ 19.671875 43.65625 24.015625 45.921875 \r\nQ 28.375 48.1875 33.59375 48.1875 \r\nQ 44.578125 48.1875 50.953125 41.515625 \r\nQ 57.328125 34.859375 57.328125 23.390625 \r\nQ 57.328125 12.15625 50.6875 5.359375 \r\nQ 44.046875 -1.421875 33.015625 -1.421875 \r\nQ 20.359375 -1.421875 13.671875 8.265625 \r\nQ 6.984375 17.96875 6.984375 36.375 \r\nQ 6.984375 53.65625 15.1875 63.9375 \r\nQ 23.390625 74.21875 37.203125 74.21875 \r\nQ 40.921875 74.21875 44.703125 73.484375 \r\nQ 48.484375 72.75 52.59375 71.296875 \r\nz\r\n\" id=\"DejaVuSans-54\"/>\r\n      </defs>\r\n      <g transform=\"translate(27.240625 135.566972)scale(0.1 -0.1)\">\r\n       <use xlink:href=\"#DejaVuSans-54\"/>\r\n       <use x=\"63.623047\" xlink:href=\"#DejaVuSans-48\"/>\r\n       <use x=\"127.246094\" xlink:href=\"#DejaVuSans-48\"/>\r\n       <use x=\"190.869141\" xlink:href=\"#DejaVuSans-48\"/>\r\n       <use x=\"254.492188\" xlink:href=\"#DejaVuSans-48\"/>\r\n      </g>\r\n     </g>\r\n    </g>\r\n    <g id=\"ytick_5\">\r\n     <g id=\"line2d_33\">\r\n      <path clip-path=\"url(#pc27bd9cd15)\" d=\"M 66.053125 103.488393 \r\nL 400.853125 103.488393 \r\n\" style=\"fill:none;stroke:#c0c0c0;stroke-linecap:square;stroke-width:0.8;\"/>\r\n     </g>\r\n     <g id=\"line2d_34\">\r\n      <g>\r\n       <use style=\"stroke:#000000;stroke-width:0.8;\" x=\"66.053125\" xlink:href=\"#mfabf5e42e0\" y=\"103.488393\"/>\r\n      </g>\r\n     </g>\r\n     <g id=\"text_18\">\r\n      <!-- 70000 -->\r\n      <defs>\r\n       <path d=\"M 8.203125 72.90625 \r\nL 55.078125 72.90625 \r\nL 55.078125 68.703125 \r\nL 28.609375 0 \r\nL 18.3125 0 \r\nL 43.21875 64.59375 \r\nL 8.203125 64.59375 \r\nz\r\n\" id=\"DejaVuSans-55\"/>\r\n      </defs>\r\n      <g transform=\"translate(27.240625 107.287612)scale(0.1 -0.1)\">\r\n       <use xlink:href=\"#DejaVuSans-55\"/>\r\n       <use x=\"63.623047\" xlink:href=\"#DejaVuSans-48\"/>\r\n       <use x=\"127.246094\" xlink:href=\"#DejaVuSans-48\"/>\r\n       <use x=\"190.869141\" xlink:href=\"#DejaVuSans-48\"/>\r\n       <use x=\"254.492188\" xlink:href=\"#DejaVuSans-48\"/>\r\n      </g>\r\n     </g>\r\n    </g>\r\n    <g id=\"ytick_6\">\r\n     <g id=\"line2d_35\">\r\n      <path clip-path=\"url(#pc27bd9cd15)\" d=\"M 66.053125 75.209033 \r\nL 400.853125 75.209033 \r\n\" style=\"fill:none;stroke:#c0c0c0;stroke-linecap:square;stroke-width:0.8;\"/>\r\n     </g>\r\n     <g id=\"line2d_36\">\r\n      <g>\r\n       <use style=\"stroke:#000000;stroke-width:0.8;\" x=\"66.053125\" xlink:href=\"#mfabf5e42e0\" y=\"75.209033\"/>\r\n      </g>\r\n     </g>\r\n     <g id=\"text_19\">\r\n      <!-- 80000 -->\r\n      <defs>\r\n       <path d=\"M 31.78125 34.625 \r\nQ 24.75 34.625 20.71875 30.859375 \r\nQ 16.703125 27.09375 16.703125 20.515625 \r\nQ 16.703125 13.921875 20.71875 10.15625 \r\nQ 24.75 6.390625 31.78125 6.390625 \r\nQ 38.8125 6.390625 42.859375 10.171875 \r\nQ 46.921875 13.96875 46.921875 20.515625 \r\nQ 46.921875 27.09375 42.890625 30.859375 \r\nQ 38.875 34.625 31.78125 34.625 \r\nz\r\nM 21.921875 38.8125 \r\nQ 15.578125 40.375 12.03125 44.71875 \r\nQ 8.5 49.078125 8.5 55.328125 \r\nQ 8.5 64.0625 14.71875 69.140625 \r\nQ 20.953125 74.21875 31.78125 74.21875 \r\nQ 42.671875 74.21875 48.875 69.140625 \r\nQ 55.078125 64.0625 55.078125 55.328125 \r\nQ 55.078125 49.078125 51.53125 44.71875 \r\nQ 48 40.375 41.703125 38.8125 \r\nQ 48.828125 37.15625 52.796875 32.3125 \r\nQ 56.78125 27.484375 56.78125 20.515625 \r\nQ 56.78125 9.90625 50.3125 4.234375 \r\nQ 43.84375 -1.421875 31.78125 -1.421875 \r\nQ 19.734375 -1.421875 13.25 4.234375 \r\nQ 6.78125 9.90625 6.78125 20.515625 \r\nQ 6.78125 27.484375 10.78125 32.3125 \r\nQ 14.796875 37.15625 21.921875 38.8125 \r\nz\r\nM 18.3125 54.390625 \r\nQ 18.3125 48.734375 21.84375 45.5625 \r\nQ 25.390625 42.390625 31.78125 42.390625 \r\nQ 38.140625 42.390625 41.71875 45.5625 \r\nQ 45.3125 48.734375 45.3125 54.390625 \r\nQ 45.3125 60.0625 41.71875 63.234375 \r\nQ 38.140625 66.40625 31.78125 66.40625 \r\nQ 25.390625 66.40625 21.84375 63.234375 \r\nQ 18.3125 60.0625 18.3125 54.390625 \r\nz\r\n\" id=\"DejaVuSans-56\"/>\r\n      </defs>\r\n      <g transform=\"translate(27.240625 79.008252)scale(0.1 -0.1)\">\r\n       <use xlink:href=\"#DejaVuSans-56\"/>\r\n       <use x=\"63.623047\" xlink:href=\"#DejaVuSans-48\"/>\r\n       <use x=\"127.246094\" xlink:href=\"#DejaVuSans-48\"/>\r\n       <use x=\"190.869141\" xlink:href=\"#DejaVuSans-48\"/>\r\n       <use x=\"254.492188\" xlink:href=\"#DejaVuSans-48\"/>\r\n      </g>\r\n     </g>\r\n    </g>\r\n    <g id=\"ytick_7\">\r\n     <g id=\"line2d_37\">\r\n      <path clip-path=\"url(#pc27bd9cd15)\" d=\"M 66.053125 46.929673 \r\nL 400.853125 46.929673 \r\n\" style=\"fill:none;stroke:#c0c0c0;stroke-linecap:square;stroke-width:0.8;\"/>\r\n     </g>\r\n     <g id=\"line2d_38\">\r\n      <g>\r\n       <use style=\"stroke:#000000;stroke-width:0.8;\" x=\"66.053125\" xlink:href=\"#mfabf5e42e0\" y=\"46.929673\"/>\r\n      </g>\r\n     </g>\r\n     <g id=\"text_20\">\r\n      <!-- 90000 -->\r\n      <defs>\r\n       <path d=\"M 10.984375 1.515625 \r\nL 10.984375 10.5 \r\nQ 14.703125 8.734375 18.5 7.8125 \r\nQ 22.3125 6.890625 25.984375 6.890625 \r\nQ 35.75 6.890625 40.890625 13.453125 \r\nQ 46.046875 20.015625 46.78125 33.40625 \r\nQ 43.953125 29.203125 39.59375 26.953125 \r\nQ 35.25 24.703125 29.984375 24.703125 \r\nQ 19.046875 24.703125 12.671875 31.3125 \r\nQ 6.296875 37.9375 6.296875 49.421875 \r\nQ 6.296875 60.640625 12.9375 67.421875 \r\nQ 19.578125 74.21875 30.609375 74.21875 \r\nQ 43.265625 74.21875 49.921875 64.515625 \r\nQ 56.59375 54.828125 56.59375 36.375 \r\nQ 56.59375 19.140625 48.40625 8.859375 \r\nQ 40.234375 -1.421875 26.421875 -1.421875 \r\nQ 22.703125 -1.421875 18.890625 -0.6875 \r\nQ 15.09375 0.046875 10.984375 1.515625 \r\nz\r\nM 30.609375 32.421875 \r\nQ 37.25 32.421875 41.125 36.953125 \r\nQ 45.015625 41.5 45.015625 49.421875 \r\nQ 45.015625 57.28125 41.125 61.84375 \r\nQ 37.25 66.40625 30.609375 66.40625 \r\nQ 23.96875 66.40625 20.09375 61.84375 \r\nQ 16.21875 57.28125 16.21875 49.421875 \r\nQ 16.21875 41.5 20.09375 36.953125 \r\nQ 23.96875 32.421875 30.609375 32.421875 \r\nz\r\n\" id=\"DejaVuSans-57\"/>\r\n      </defs>\r\n      <g transform=\"translate(27.240625 50.728892)scale(0.1 -0.1)\">\r\n       <use xlink:href=\"#DejaVuSans-57\"/>\r\n       <use x=\"63.623047\" xlink:href=\"#DejaVuSans-48\"/>\r\n       <use x=\"127.246094\" xlink:href=\"#DejaVuSans-48\"/>\r\n       <use x=\"190.869141\" xlink:href=\"#DejaVuSans-48\"/>\r\n       <use x=\"254.492188\" xlink:href=\"#DejaVuSans-48\"/>\r\n      </g>\r\n     </g>\r\n    </g>\r\n    <g id=\"ytick_8\">\r\n     <g id=\"line2d_39\">\r\n      <path clip-path=\"url(#pc27bd9cd15)\" d=\"M 66.053125 18.650313 \r\nL 400.853125 18.650313 \r\n\" style=\"fill:none;stroke:#c0c0c0;stroke-linecap:square;stroke-width:0.8;\"/>\r\n     </g>\r\n     <g id=\"line2d_40\">\r\n      <g>\r\n       <use style=\"stroke:#000000;stroke-width:0.8;\" x=\"66.053125\" xlink:href=\"#mfabf5e42e0\" y=\"18.650313\"/>\r\n      </g>\r\n     </g>\r\n     <g id=\"text_21\">\r\n      <!-- 100000 -->\r\n      <defs>\r\n       <path d=\"M 12.40625 8.296875 \r\nL 28.515625 8.296875 \r\nL 28.515625 63.921875 \r\nL 10.984375 60.40625 \r\nL 10.984375 69.390625 \r\nL 28.421875 72.90625 \r\nL 38.28125 72.90625 \r\nL 38.28125 8.296875 \r\nL 54.390625 8.296875 \r\nL 54.390625 0 \r\nL 12.40625 0 \r\nz\r\n\" id=\"DejaVuSans-49\"/>\r\n      </defs>\r\n      <g transform=\"translate(20.878125 22.449532)scale(0.1 -0.1)\">\r\n       <use xlink:href=\"#DejaVuSans-49\"/>\r\n       <use x=\"63.623047\" xlink:href=\"#DejaVuSans-48\"/>\r\n       <use x=\"127.246094\" xlink:href=\"#DejaVuSans-48\"/>\r\n       <use x=\"190.869141\" xlink:href=\"#DejaVuSans-48\"/>\r\n       <use x=\"254.492188\" xlink:href=\"#DejaVuSans-48\"/>\r\n       <use x=\"318.115234\" xlink:href=\"#DejaVuSans-48\"/>\r\n      </g>\r\n     </g>\r\n    </g>\r\n    <g id=\"text_22\">\r\n     <!-- Cumulative Counts -->\r\n     <defs>\r\n      <path d=\"M 8.5 21.578125 \r\nL 8.5 54.6875 \r\nL 17.484375 54.6875 \r\nL 17.484375 21.921875 \r\nQ 17.484375 14.15625 20.5 10.265625 \r\nQ 23.53125 6.390625 29.59375 6.390625 \r\nQ 36.859375 6.390625 41.078125 11.03125 \r\nQ 45.3125 15.671875 45.3125 23.6875 \r\nL 45.3125 54.6875 \r\nL 54.296875 54.6875 \r\nL 54.296875 0 \r\nL 45.3125 0 \r\nL 45.3125 8.40625 \r\nQ 42.046875 3.421875 37.71875 1 \r\nQ 33.40625 -1.421875 27.6875 -1.421875 \r\nQ 18.265625 -1.421875 13.375 4.4375 \r\nQ 8.5 10.296875 8.5 21.578125 \r\nz\r\nM 31.109375 56 \r\nz\r\n\" id=\"DejaVuSans-117\"/>\r\n      <path d=\"M 18.3125 70.21875 \r\nL 18.3125 54.6875 \r\nL 36.8125 54.6875 \r\nL 36.8125 47.703125 \r\nL 18.3125 47.703125 \r\nL 18.3125 18.015625 \r\nQ 18.3125 11.328125 20.140625 9.421875 \r\nQ 21.96875 7.515625 27.59375 7.515625 \r\nL 36.8125 7.515625 \r\nL 36.8125 0 \r\nL 27.59375 0 \r\nQ 17.1875 0 13.234375 3.875 \r\nQ 9.28125 7.765625 9.28125 18.015625 \r\nL 9.28125 47.703125 \r\nL 2.6875 47.703125 \r\nL 2.6875 54.6875 \r\nL 9.28125 54.6875 \r\nL 9.28125 70.21875 \r\nz\r\n\" id=\"DejaVuSans-116\"/>\r\n      <path d=\"M 9.421875 54.6875 \r\nL 18.40625 54.6875 \r\nL 18.40625 0 \r\nL 9.421875 0 \r\nz\r\nM 9.421875 75.984375 \r\nL 18.40625 75.984375 \r\nL 18.40625 64.59375 \r\nL 9.421875 64.59375 \r\nz\r\n\" id=\"DejaVuSans-105\"/>\r\n      <path d=\"M 2.984375 54.6875 \r\nL 12.5 54.6875 \r\nL 29.59375 8.796875 \r\nL 46.6875 54.6875 \r\nL 56.203125 54.6875 \r\nL 35.6875 0 \r\nL 23.484375 0 \r\nz\r\n\" id=\"DejaVuSans-118\"/>\r\n      <path id=\"DejaVuSans-32\"/>\r\n      <path d=\"M 30.609375 48.390625 \r\nQ 23.390625 48.390625 19.1875 42.75 \r\nQ 14.984375 37.109375 14.984375 27.296875 \r\nQ 14.984375 17.484375 19.15625 11.84375 \r\nQ 23.34375 6.203125 30.609375 6.203125 \r\nQ 37.796875 6.203125 41.984375 11.859375 \r\nQ 46.1875 17.53125 46.1875 27.296875 \r\nQ 46.1875 37.015625 41.984375 42.703125 \r\nQ 37.796875 48.390625 30.609375 48.390625 \r\nz\r\nM 30.609375 56 \r\nQ 42.328125 56 49.015625 48.375 \r\nQ 55.71875 40.765625 55.71875 27.296875 \r\nQ 55.71875 13.875 49.015625 6.21875 \r\nQ 42.328125 -1.421875 30.609375 -1.421875 \r\nQ 18.84375 -1.421875 12.171875 6.21875 \r\nQ 5.515625 13.875 5.515625 27.296875 \r\nQ 5.515625 40.765625 12.171875 48.375 \r\nQ 18.84375 56 30.609375 56 \r\nz\r\n\" id=\"DejaVuSans-111\"/>\r\n      <path d=\"M 54.890625 33.015625 \r\nL 54.890625 0 \r\nL 45.90625 0 \r\nL 45.90625 32.71875 \r\nQ 45.90625 40.484375 42.875 44.328125 \r\nQ 39.84375 48.1875 33.796875 48.1875 \r\nQ 26.515625 48.1875 22.3125 43.546875 \r\nQ 18.109375 38.921875 18.109375 30.90625 \r\nL 18.109375 0 \r\nL 9.078125 0 \r\nL 9.078125 54.6875 \r\nL 18.109375 54.6875 \r\nL 18.109375 46.1875 \r\nQ 21.34375 51.125 25.703125 53.5625 \r\nQ 30.078125 56 35.796875 56 \r\nQ 45.21875 56 50.046875 50.171875 \r\nQ 54.890625 44.34375 54.890625 33.015625 \r\nz\r\n\" id=\"DejaVuSans-110\"/>\r\n     </defs>\r\n     <g transform=\"translate(14.798438 163.499688)rotate(-90)scale(0.1 -0.1)\">\r\n      <use xlink:href=\"#DejaVuSans-67\"/>\r\n      <use x=\"69.824219\" xlink:href=\"#DejaVuSans-117\"/>\r\n      <use x=\"133.203125\" xlink:href=\"#DejaVuSans-109\"/>\r\n      <use x=\"230.615234\" xlink:href=\"#DejaVuSans-117\"/>\r\n      <use x=\"293.994141\" xlink:href=\"#DejaVuSans-108\"/>\r\n      <use x=\"321.777344\" xlink:href=\"#DejaVuSans-97\"/>\r\n      <use x=\"383.056641\" xlink:href=\"#DejaVuSans-116\"/>\r\n      <use x=\"422.265625\" xlink:href=\"#DejaVuSans-105\"/>\r\n      <use x=\"450.048828\" xlink:href=\"#DejaVuSans-118\"/>\r\n      <use x=\"509.228516\" xlink:href=\"#DejaVuSans-101\"/>\r\n      <use x=\"570.751953\" xlink:href=\"#DejaVuSans-32\"/>\r\n      <use x=\"602.539062\" xlink:href=\"#DejaVuSans-67\"/>\r\n      <use x=\"672.363281\" xlink:href=\"#DejaVuSans-111\"/>\r\n      <use x=\"733.544922\" xlink:href=\"#DejaVuSans-117\"/>\r\n      <use x=\"796.923828\" xlink:href=\"#DejaVuSans-110\"/>\r\n      <use x=\"860.302734\" xlink:href=\"#DejaVuSans-116\"/>\r\n      <use x=\"899.511719\" xlink:href=\"#DejaVuSans-115\"/>\r\n     </g>\r\n    </g>\r\n   </g>\r\n   <g id=\"line2d_41\">\r\n    <path clip-path=\"url(#pc27bd9cd15)\" d=\"M 81.271307 214.756364 \r\nL 108.940728 174.036913 \r\nL 136.61015 139.097764 \r\nL 164.279571 105.366143 \r\nL 191.948993 73.15878 \r\nL 219.618414 54.194641 \r\nL 247.287836 44.723883 \r\nL 274.957257 37.040381 \r\nL 302.626679 29.871563 \r\nL 330.2961 23.469116 \r\nL 357.965522 17.343806 \r\nL 385.634943 17.083636 \r\n\" style=\"fill:none;stroke:#1f77b4;stroke-linecap:square;stroke-width:2;\"/>\r\n   </g>\r\n   <g id=\"patch_3\">\r\n    <path d=\"M 66.053125 224.64 \r\nL 66.053125 7.2 \r\n\" style=\"fill:none;stroke:#000000;stroke-linecap:square;stroke-linejoin:miter;stroke-width:0.8;\"/>\r\n   </g>\r\n   <g id=\"patch_4\">\r\n    <path d=\"M 400.853125 224.64 \r\nL 400.853125 7.2 \r\n\" style=\"fill:none;stroke:#000000;stroke-linecap:square;stroke-linejoin:miter;stroke-width:0.8;\"/>\r\n   </g>\r\n   <g id=\"patch_5\">\r\n    <path d=\"M 66.053125 224.64 \r\nL 400.853125 224.64 \r\n\" style=\"fill:none;stroke:#000000;stroke-linecap:square;stroke-linejoin:miter;stroke-width:0.8;\"/>\r\n   </g>\r\n   <g id=\"patch_6\">\r\n    <path d=\"M 66.053125 7.2 \r\nL 400.853125 7.2 \r\n\" style=\"fill:none;stroke:#000000;stroke-linecap:square;stroke-linejoin:miter;stroke-width:0.8;\"/>\r\n   </g>\r\n  </g>\r\n </g>\r\n <defs>\r\n  <clipPath id=\"pc27bd9cd15\">\r\n   <rect height=\"217.44\" width=\"334.8\" x=\"66.053125\" y=\"7.2\"/>\r\n  </clipPath>\r\n </defs>\r\n</svg>\r\n",
      "image/png": "[encoded data removed]"
     },
     "metadata": {
      "needs_background": "light"
     }
    },
    {
     "output_type": "execute_result",
     "data": {
      "text/plain": "<matplotlib.axes._subplots.AxesSubplot at 0x2458eb7afc8>"
     },
     "metadata": {},
     "execution_count": 14
    }
   ],
   "source": [
    "tag_fd.plot(cumulative=True)"
   ]
  },
  {
   "cell_type": "code",
   "execution_count": 15,
   "metadata": {},
   "outputs": [
    {
     "output_type": "execute_result",
     "data": {
      "text/plain": "['NOUN',\n 'DET',\n 'ADJ',\n 'ADP',\n '.',\n 'VERB',\n 'CONJ',\n 'NUM',\n 'ADV',\n 'PRT',\n 'PRON',\n 'X']"
     },
     "metadata": {},
     "execution_count": 15
    }
   ],
   "source": [
    "word_tag_pairs = nltk.bigrams(brown_news_tagged)\n",
    "noun_preceders = [a[1] for (a, b) in word_tag_pairs if b[1] == 'NOUN']\n",
    "fdist = nltk.FreqDist(noun_preceders)\n",
    "[tag for (tag, _) in fdist.most_common()]"
   ]
  },
  {
   "cell_type": "code",
   "execution_count": 16,
   "metadata": {},
   "outputs": [
    {
     "output_type": "execute_result",
     "data": {
      "text/plain": "['is',\n 'said',\n 'was',\n 'are',\n 'be',\n 'has',\n 'have',\n 'will',\n 'says',\n 'would',\n 'were',\n 'had',\n 'been',\n 'could',\n \"'s\",\n 'can',\n 'do',\n 'say',\n 'make',\n 'may',\n 'did',\n 'rose',\n 'made',\n 'does',\n 'expected',\n 'buy',\n 'take',\n 'get',\n 'might',\n 'sell',\n 'added',\n 'sold',\n 'help',\n 'including',\n 'should',\n 'reported',\n 'according',\n 'pay',\n 'compared',\n 'being',\n 'fell',\n 'began',\n 'based',\n 'used',\n 'closed',\n \"'re\",\n 'want',\n 'see',\n 'took',\n 'yield',\n 'offered',\n 'set',\n 'priced',\n 'approved',\n 'come',\n 'noted',\n 'cut',\n 'ended',\n 'found',\n 'increased',\n 'become',\n 'think',\n 'named',\n 'go',\n 'trying',\n 'proposed',\n 'received',\n 'growing',\n 'declined',\n 'held',\n 'give',\n 'came',\n 'use',\n 'put',\n 'making',\n 'continue',\n 'raise',\n 'estimated',\n 'called',\n 'paid',\n 'designed',\n 'going',\n 'expects',\n 'seeking',\n 'must',\n 'plans',\n 'wo',\n 'increasing',\n 'saying',\n 'got',\n 'owns',\n 'trading',\n 'acquired',\n 'gained',\n 'fined',\n 'reached',\n 'holding',\n 'announced',\n 'filed',\n 'became',\n 'seek',\n 'included',\n 'using',\n 'led',\n 'decided',\n 'keep',\n 'disclosed',\n 'agreed',\n 'find',\n 'failed',\n 'run',\n 'taken',\n 'know',\n 'coming',\n \"'ve\",\n 'completed',\n 'built',\n 'raised',\n 'traded',\n 'lost',\n 'continued',\n 'paying',\n 'include',\n 'believe',\n 'receive',\n 'posted',\n 'wants',\n 'scheduled',\n 'went',\n 'indicated',\n 'provide',\n 'helped',\n 'needed',\n 'goes',\n 'told',\n 'result',\n 'need',\n 'caused',\n 'continues',\n 'dropped',\n 'showed',\n 'ordered',\n 'changed',\n 'face',\n 'continuing',\n 'launched',\n 'gives',\n 'reduce',\n \"'m\",\n 'lead',\n 'planned',\n 'wanted',\n 'following',\n 'remains',\n 'followed',\n 'remain',\n 'meet',\n 'believes',\n 'trade',\n 'includes',\n 'improve',\n 'buying',\n 'issued',\n 'rise',\n 'leading',\n 'ca',\n 'involved',\n 'known',\n 'like',\n 'makes',\n 'having',\n 'rejected',\n 'rising',\n 'increase',\n 'turned',\n 'operating',\n 'read',\n 'feel',\n 'win',\n 'given',\n 'prevent',\n 'offset',\n 'barred',\n 'earned',\n 'consented',\n 'support',\n 'gave',\n 'totaled',\n 'acquire',\n 'required',\n 'begin',\n 'require',\n 'offer',\n 'preferred',\n 'produced',\n 'bought',\n 'offering',\n 'asked',\n 'carry',\n 'build',\n 'takes',\n 'seem',\n 'introduced',\n 'taking',\n 'won',\n 'aimed',\n 'hurt',\n 'adds',\n 'cited',\n 'sought',\n 'bring',\n 'remaining',\n 'considered',\n 'suspended',\n 'prove',\n 'looking',\n 'doing',\n 'involving',\n 'opened',\n 'working',\n 'close',\n 'own',\n 'report',\n 'left',\n 'boosted',\n 'giving',\n 'fixed',\n 'listed',\n 'runs',\n 'purchasing',\n 'consider',\n 'prepared',\n 'hit',\n 'getting',\n 'alleged',\n 'look',\n 'allowed',\n 'approve',\n 'wrote',\n 'reduced',\n 'fall',\n 'advanced',\n 'appears',\n 'mixed',\n 'described',\n 'expect',\n 'manufacturing',\n 'spent',\n 'According',\n 'hopes',\n 'underlying',\n 'produce',\n 'work',\n 'placed',\n 'allow',\n 'sells',\n 'operate',\n 'extend',\n 'surged',\n 'jumped',\n 'boost',\n 'slowing',\n 'provided',\n 'seems',\n 'ending',\n 'selling',\n 'opposed',\n 'created',\n 'move',\n 'seen',\n 'comment',\n 'valued',\n 'losing',\n 'mature',\n 'provides',\n 'let',\n 'stopped',\n 'worked',\n 'thought',\n 'watch',\n 'introduce',\n 'related',\n 'improved',\n 'raising',\n 'seemed',\n 'force',\n 'beginning',\n 'leave',\n 'believed',\n 'stand',\n 'developed',\n 'decline',\n 'expire',\n 'managing',\n 'hold',\n 'invested',\n 'suggests',\n 'represent',\n 'settle',\n 'change',\n 'contributed',\n 'indicates',\n 'asking',\n 'elaborate',\n 'shows',\n 'refused',\n 'quoted',\n 'comes',\n 'ease',\n 'passed',\n 'Says',\n 'avoid',\n 'threatened',\n 'cause',\n 'end',\n 'violate',\n 'operates',\n 'kept',\n \"'ll\",\n 'soared',\n 'eliminated',\n 'becomes',\n 'create',\n 'print',\n 'shall',\n 'show',\n 'replaced',\n 'owned',\n 'argue',\n 'beat',\n 'elected',\n 'complete',\n 'issue',\n 'act',\n 'return',\n 'registered',\n 'suffer',\n 'worried',\n 'succeed',\n 'block',\n 'contain',\n 'occur',\n 'pursue',\n 'combined',\n 'requires',\n 'met',\n 'brought',\n 'started',\n 'covered',\n 'turn',\n 'running',\n 'eliminate',\n 'file',\n 'plunged',\n 'fallen',\n 'ran',\n 'fired',\n 'becoming',\n 'contained',\n 'managed',\n 'Take',\n 'suggested',\n 'accused',\n 'appeared',\n 'slow',\n 'helping',\n 'discovered',\n 'add',\n 'referred',\n 'oppose',\n 'stop',\n 'claim',\n 'sent',\n 'formed',\n 'resulting',\n 'turning',\n 'limited',\n 'shipped',\n 'forced',\n 'send',\n 'attract',\n 'admitting',\n 'denying',\n 'disgorge',\n 'attributed',\n 'causing',\n 'studied',\n 'resigned',\n 'cutting',\n 'voted',\n 'settled',\n 'expand',\n 'stood',\n 'retired',\n 'moved',\n 'pending',\n 'providing',\n 'anticipated',\n 'decide',\n 'creating',\n 'prompted',\n 'developing',\n 'start',\n 'maintained',\n 'expanding',\n 'follows',\n 'ranged',\n 'focused',\n 'climbed',\n 'reflect',\n 'insist',\n 'owed',\n 'happen',\n 'adjusted',\n 'awarded',\n 'reporting',\n 'talk',\n 'offers',\n 'written',\n 'urged',\n 'carried',\n 'identified',\n 'confirmed',\n 'playing',\n 'thinking',\n 'calls',\n 'means',\n 'tried',\n 'lying',\n 'asks',\n 'building',\n 'suggest',\n 'falling',\n 'discuss',\n 'matched',\n 'concluded',\n 'keeping',\n \"'d\",\n 'returned',\n 'withdrawn',\n 'bid',\n 'saw',\n 'signed',\n 'financing',\n 'assuming',\n 'adopted',\n 'attempting',\n 'accepted',\n 'cover',\n 'facing',\n 'risk',\n 'expanded',\n 'leaving',\n 'raises',\n 'declared',\n 'exercise',\n 'finished',\n 'regarding',\n 'finance',\n 'charge',\n 'starting',\n 'realize',\n 'felt',\n 'remained',\n 'expressed',\n 'done',\n 'replace',\n 'veto',\n 'stay',\n 'delivered',\n 'join',\n 'publishing',\n 'enters',\n 'appear',\n 'talking',\n 'heard',\n 'dumped',\n 'imported',\n 'assume',\n 'declining',\n 'capture',\n 'grew',\n 'holds',\n 'lift',\n 'treat',\n 'receiving',\n 'joined',\n 'reflecting',\n 'released',\n 'maintaining',\n 'cost',\n 'lowered',\n 'costs',\n 'exceed',\n 'gaining',\n 'considering',\n 'determined',\n 'ruled',\n 'hope',\n 'located',\n 'tied',\n 'heads',\n 'applied',\n 'failing',\n 'showing',\n 'apply',\n 'protecting',\n 'tells',\n 'complained',\n 'ask',\n 'triggered',\n 'entered',\n 'total',\n 'producing',\n 'denied',\n 'reducing',\n 'reflects',\n 'account',\n 'predicting',\n 'intended',\n 'purchased',\n 'blamed',\n 'worry',\n 'broken',\n 'carries',\n 'learned',\n 'renewed',\n 'walk',\n 'viewed',\n 'die',\n 'speculated',\n 'needs',\n 'gets',\n 'wait',\n 'caught',\n 'claims',\n 'choose',\n 'fail',\n 'insists',\n 'knows',\n 'pass',\n 'grown',\n 'gotten',\n 'grows',\n 'responded',\n 'play',\n 'try',\n 'mean',\n 'encourage',\n 'chosen',\n 'admits',\n 'Do',\n 'dismissed',\n 'realized',\n 'serve',\n 'associated',\n 'slipped',\n 'argued',\n 'citing',\n 'seeks',\n 'preventing',\n 'sparked',\n 'review',\n 'opening',\n 'fueled',\n 'negotiate',\n 'drop',\n 'pleased',\n 'spend',\n 'care',\n 'represents',\n 'spread',\n 'explains',\n 'push',\n 'divided',\n 'proposing',\n 'gain',\n 'representing',\n 'financed',\n 'execute',\n 'existing',\n 'discussed',\n 'uses',\n 'live',\n 'ring',\n 'signal',\n 'focus',\n 'hired',\n 'limit',\n 'begins',\n 'reflected',\n 'hear',\n 'determine',\n 'profit',\n 'marketed',\n 'warned',\n 'qualified',\n 'died',\n 'surviving',\n 'study',\n 'explained',\n 'imposed',\n 'recognize',\n 'eased',\n 'indicate',\n 'permit',\n 'retain',\n 'yielding',\n 'boosts',\n 'obtain',\n 'employs',\n 'banned',\n 'pointed',\n 'leaves',\n 'withdraw',\n 'refund',\n 'collected',\n 'upheld',\n 'benefited',\n 'doubled',\n 'attached',\n 'jump',\n 'compete',\n 'incurred',\n 'removed',\n 'honor',\n 'varying',\n 'marketing',\n 'protect',\n 'reach',\n 'share',\n 'requested',\n 'grant',\n 'stepping',\n 'direct',\n 'curb',\n 'controlling',\n 'snapped',\n 'tend',\n 'cast',\n 'clear',\n 'permitted',\n 'remove',\n 'revive',\n 'draw',\n 'predicted',\n 'suspect',\n 'coupled',\n 'belong',\n 'call',\n 'describes',\n 'played',\n 'committed',\n 'advertising',\n 'tested',\n 'revived',\n 'earns',\n 'feeling',\n 'turns',\n 'executed',\n 'killed',\n 'presented',\n 'deserve',\n 'mention',\n 'seeing',\n 'discussing',\n 'convicted',\n 'telling',\n 'agree',\n 'denies',\n 'pursued',\n 'spurred',\n 'accommodate',\n 'surrendered',\n 'gone',\n 'teach',\n 'booming',\n 'serving',\n 'restore',\n 'restructured',\n 'taught',\n 'feared',\n 'meant',\n 'adding',\n 'publishes',\n 'improving',\n 'ignoring',\n 'represented',\n 'funded',\n 'involve',\n 'charged',\n 'fared',\n 'eliminates',\n 'tumbled',\n 'redeemed',\n 'resolve',\n 'stem',\n 'hire',\n 'obtained',\n 'develop',\n 'employed',\n 'prohibits',\n 'promote',\n 'impose',\n 'consist',\n 'investigating',\n 'accepting',\n 'plan',\n 'insisted',\n 'contacted',\n 'note',\n 'driving',\n 'contends',\n 'cites',\n 'point',\n 'sign',\n 'printed',\n 'advertise',\n 'breaks',\n 'damaged',\n 'check',\n 'thinks',\n 'looming',\n 'expecting',\n 'exercised',\n 'auctioned',\n 'disappointed',\n 'subordinated',\n 'respond',\n 'secured',\n 'integrated',\n 'performed',\n 'targeting',\n 'stepped',\n 'moving',\n 'split',\n 'Buy',\n 'stemming',\n 'executing',\n 'shut',\n 'writing',\n 'regulated',\n 'stands',\n 'attend',\n 'reopen',\n 'drawn',\n 'Put',\n 'notes',\n 'weaken',\n 'trailed',\n 'deliver',\n 'occurred',\n 'changing',\n 'accept',\n 'expelled',\n 'amounted',\n 'scrutinizing',\n 'suspend',\n 'compares',\n 'backed',\n 'vote',\n 'covers',\n 'knew',\n 'joining',\n 'record',\n 'regarded',\n 'copy',\n 'conclude',\n 'ought',\n 'dominated',\n 'pushed',\n 'closing',\n 'rumored',\n 'respected',\n 'specified',\n 'understand',\n 'supported',\n 'perform',\n 'declaring',\n 'struggling',\n 'abandoned',\n 'considers',\n 'warning',\n 'offsetting',\n 'break',\n 'follow',\n 'figure',\n 'increases',\n 'proving',\n 'edged',\n 'Buying',\n 'forecast',\n 'specify',\n 'extended',\n 'tendered',\n 'unveiled',\n 'treating',\n 'exposed',\n 'industrialized',\n 'regulate',\n 'contracted',\n 'blip',\n 'vary',\n 'slid',\n 'succeeds',\n 'lifted',\n 'acts',\n 'welcomed',\n 'squeezed',\n 'fed',\n 'casting',\n 'prolonged',\n 'recorded',\n 'announce',\n 'reward',\n 'bowed',\n 'justify',\n 'asserted',\n 'appealing',\n 'faces',\n 'rule',\n 'inched',\n 'manufacture',\n 'fund',\n 'anticipates',\n 'link',\n 'describe',\n 'roll',\n 'calculate',\n 'transferring',\n 'favored',\n 'claiming',\n 'hurting',\n 'investing',\n 'trained',\n 'instituted',\n 'introducing',\n 'vowed',\n 'deemed',\n 'pose',\n 'concerned',\n 'accelerated',\n 'feels',\n 'solved',\n 'forgiven',\n 'stored',\n 'assembled',\n 'totaling',\n 'linked',\n 'forces',\n 'attempts',\n 'advertised',\n 'marks',\n 'sweeping',\n 'invest',\n 'kicked',\n 'brings',\n 'scrambled',\n 'diversify',\n 'swing',\n 'skyrocketed',\n 'targeted',\n 'repaid',\n 'open',\n 'crippled',\n 'lent',\n 'belongs',\n 'stressed',\n 'leveling',\n 'manufactured',\n 'pick',\n 'cite',\n 'provoke',\n 'last',\n 'climbing',\n 'Excluding',\n 'adjusting',\n 'counts',\n 'handle',\n 'polled',\n 'drink',\n 'sets',\n 'sidestep',\n 'fare',\n 'letting',\n 'entering',\n 'ban',\n 'visiting',\n 'endorsed',\n 'balked',\n 'compensate',\n 'terminated',\n 'modify',\n 'operated',\n 'entitles',\n 'romanticized',\n 'spends',\n 'condemned',\n 'competing',\n 'returning',\n 'murdered',\n 'load',\n 'lives',\n 'recommend',\n 'fighting',\n 'fills',\n 'charges',\n 'exist',\n 'Stung',\n 'banning',\n 'admitted',\n 'talks',\n 'launch',\n 'attracted',\n 'featured',\n 'devote',\n 'featuring',\n 'suing',\n 'shrinks',\n 'tripled',\n 'pumping',\n 'contributing',\n 'spur',\n 'concentrated',\n 'export',\n 'pull',\n 'approach',\n 'step',\n 'regard',\n 'breach',\n 'pleaded',\n 'inspired',\n 'defended',\n 'treated',\n 'casts',\n 'violated',\n 'enforce',\n 'surfaced',\n 'concentrate',\n 'stressing',\n 'suffered',\n 'loved',\n 'advised',\n 'studying',\n 'pushing',\n 'earn',\n 'save',\n 'interviewed',\n 'explain',\n 'gauge',\n 'measured',\n 'deny',\n 'hampered',\n 'fill',\n 'nominated',\n 'assured',\n 'finding',\n 'conducting',\n 'tracks',\n 'merge',\n 'merged',\n 'banking',\n 'achieve',\n 'acquiring',\n 'post',\n 'wish',\n 'retained',\n 'spark',\n 'chaired',\n 'deal',\n 'submit',\n 'sending',\n 'test',\n 'relegated',\n 'alleging',\n 'mounted',\n 'harass',\n 'crossing',\n 'involves',\n 'assist',\n 'killing',\n 'served',\n 'understood',\n 'touch',\n 'Asked',\n 'design',\n 'retaining',\n 'belonging',\n 'compiled',\n 'Guaranteed',\n 'positioned',\n 'plunging',\n 'locked',\n 'starts',\n 'waiting',\n 'rolled',\n 'lock',\n 'drifted',\n 'measures',\n 'Estimated',\n ...]"
     },
     "metadata": {},
     "execution_count": 16
    }
   ],
   "source": [
    "wsj = nltk.corpus.treebank.tagged_words(tagset='universal')\n",
    "word_tag_fd = nltk.FreqDist(wsj)\n",
    "[wt[0] for (wt, _) in word_tag_fd.most_common() if wt[1] == 'VERB']"
   ]
  },
  {
   "cell_type": "code",
   "execution_count": 17,
   "metadata": {},
   "outputs": [
    {
     "output_type": "execute_result",
     "data": {
      "text/plain": "['been',\n 'expected',\n 'made',\n 'compared',\n 'based',\n 'used',\n 'priced',\n 'sold',\n 'named',\n 'designed',\n 'held',\n 'fined',\n 'taken',\n 'paid',\n 'traded',\n 'increased',\n 'said',\n 'filed',\n 'reached',\n 'called',\n 'scheduled',\n 'disclosed',\n 'reported',\n 'proposed',\n 'estimated',\n 'set',\n 'known',\n 'built',\n 'approved',\n 'given',\n 'acquired',\n 'found',\n 'offered',\n 'received',\n 'caused',\n 'considered',\n 'ordered',\n 'required',\n 'preferred',\n 'led',\n 'issued',\n 'fixed',\n 'listed',\n 'prepared',\n 'involved',\n 'aimed',\n 'needed',\n 'launched',\n 'produced',\n 'put',\n 'planned',\n 'seen',\n 'alleged',\n 'valued',\n 'barred',\n 'become',\n 'related',\n 'improved',\n 'changed',\n 'provided',\n 'come',\n 'got',\n 'allowed',\n 'mixed',\n 'suspended',\n 'owned',\n 'elected',\n 'worried',\n 'completed',\n 'combined',\n 'raised',\n 'left',\n 'placed',\n 'invested',\n 'fallen',\n 'failed',\n 'helped',\n 'run',\n 'opposed',\n 'quoted',\n 'continued',\n 'threatened',\n 'offset',\n 'shipped',\n 'eliminated',\n 'followed',\n 'sought',\n 'hurt',\n 'replaced',\n 'covered',\n 'boosted',\n 'registered',\n 'focused',\n 'closed',\n 'adjusted',\n 'written',\n 'had',\n 'managed',\n 'discovered',\n 'withdrawn',\n 'agreed',\n 'lost',\n 'formed',\n 'reduced',\n 'limited',\n 'done',\n 'delivered',\n 'studied',\n 'rejected',\n 'retired',\n 'located',\n 'believed',\n 'turned',\n 'awarded',\n 'spent',\n 'broken',\n 'opened',\n 'caught',\n 'refused',\n 'created',\n 'grown',\n 'gotten',\n 'chosen',\n 'indicated',\n 'associated',\n 'sent',\n 'pleased',\n 'forced',\n 'described',\n 'divided',\n 'financed',\n 'qualified',\n 'collected',\n 'determined',\n 'anticipated',\n 'incurred',\n 'brought',\n 'developed',\n 'denied',\n 'requested',\n 'announced',\n 'ranged',\n 'tied',\n 'jumped',\n 'cast',\n 'permitted',\n 'intended',\n 'coupled',\n 'played',\n 'carried',\n 'tested',\n 'revived',\n 'viewed',\n 'executed',\n 'convicted',\n 'blamed',\n 'accused',\n 'introduced',\n 'pursued',\n 'spurred',\n 'passed',\n 'gone',\n 'fired',\n 'posted',\n 'funded',\n 'charged',\n 'returned',\n 'signed',\n 'redeemed',\n 'ended',\n 'heard',\n 'employed',\n 'adopted',\n 'accepted',\n 'fueled',\n 'decided',\n 'contacted',\n 'kept',\n 'met',\n 'hit',\n 'soared',\n 'exercised',\n 'auctioned',\n 'disappointed',\n 'subordinated',\n 'integrated',\n 'performed',\n 'triggered',\n 'discussed',\n 'regulated',\n 'drawn',\n 'renewed',\n 'gained',\n 'owed',\n 'noted',\n 'stopped',\n 'regarded',\n 'included',\n 'rumored',\n 'respected',\n 'specified',\n 'abandoned',\n 'cut',\n 'marketed',\n 'tendered',\n 'exposed',\n 'industrialized',\n 'imported',\n 'thought',\n 'voted',\n 'banned',\n 'prolonged',\n 'moved',\n 'applied',\n 'trained',\n 'instituted',\n 'removed',\n 'concerned',\n 'forgiven',\n 'assembled',\n 'maintained',\n 'linked',\n 'advertised',\n 'skyrocketed',\n 'surged',\n 'targeted',\n 'repaid',\n 'crippled',\n 'settled',\n 'manufactured',\n 'confirmed',\n 'operated',\n 'romanticized',\n 'murdered',\n 'presented',\n 'worked',\n 'prompted',\n 'Stung',\n 'attracted',\n 'dumped',\n 'released',\n 'tried',\n 'dismissed',\n 'interviewed',\n 'referred',\n 'matched',\n 'measured',\n 'retained',\n 'chaired',\n 'obtained',\n 'relegated',\n 'compiled',\n 'Guaranteed',\n 'positioned',\n 'locked',\n 'Estimated',\n 'Founded',\n 'printed',\n 'handled',\n 'damaged',\n 'pressed',\n 'allocated',\n 'mired',\n 'installed',\n 'perceived',\n 'spread',\n 'moderated',\n 'frozen',\n 'surprised',\n 'cited',\n 'purchased',\n 'publicized',\n 'identified',\n 'expressed',\n 'attached',\n 'rung',\n 'started',\n 'absorbed',\n 'entered',\n 'founded',\n 'desired',\n 'risen',\n 'sustained',\n 'loaded',\n 'expelled',\n 'engaged',\n 'pegged',\n 'backed',\n 'enacted',\n 'faced',\n 'committed',\n 'confined',\n 'upset',\n 'connected',\n 'organized',\n 'diminished',\n 'added',\n 'answered',\n 'oriented',\n 'dominated',\n 'pushed',\n 'Posted',\n 'supported',\n 'contained',\n 'entrusted',\n 'secured',\n 'begun',\n 'labeled',\n 'beaten',\n 'cooled',\n 'discontinued',\n 'lowered',\n 'warned',\n 'selected',\n 'bolstered',\n 'attributed',\n 'restructured',\n 'bought',\n 'split',\n 'diluted',\n 'subdued',\n 'liquidated',\n 'capitalized',\n 'told',\n 'specialized',\n 'died',\n 'diagnosed',\n 'classified',\n 'outlawed',\n 'tracked',\n 'lifted',\n 'ensnarled',\n 'renovated',\n 'recorded',\n 'accumulated',\n 'guaranteed',\n 'cluttered',\n 'expedited',\n 'disputed',\n 'refunded',\n 'scrapped',\n 'existed',\n 'Regarded',\n 'vowed',\n 'deemed',\n 'complained',\n 'accelerated',\n 'solved',\n 'achieved',\n 'assisted',\n 'incorporated',\n 'capped',\n 'kicked',\n 'scrambled',\n 'outpaced',\n 'burned',\n 'clobbered',\n 'climbed',\n 'alarmed',\n 'fattened',\n 'lent',\n 'amended',\n 'watched',\n 'rooted',\n 'welcomed',\n 'rationed',\n 'assigned',\n 'designated',\n 'surveyed',\n 'strapped',\n 'twinned',\n 'painted',\n 'accrued',\n 'swapped',\n 'laid',\n 'obsessed',\n 'Filmed',\n 'populated',\n 'condemned',\n 'chopped',\n 'speculated',\n 'scattered',\n 'superimposed',\n 'nurtured',\n 'interrogated',\n 'rusted',\n 'responded',\n 'cleaned',\n 'asked',\n 'knitted',\n 'tripled',\n 'Confronted',\n 'prosecuted',\n 'treated',\n 'enhanced',\n 'inflated',\n 'surfaced',\n 'educated',\n 'faded',\n 'stabbed',\n 'learned',\n 'crowded',\n 'overused',\n 'expunged',\n 'wanted',\n 'replicated',\n 'embroiled',\n 'hampered',\n 'assured',\n 'judged',\n 'polarized',\n 'Rekindled',\n 'protected',\n 'argued',\n 'prohibited',\n 'initiated',\n 'mailed',\n 'UPHELD',\n 'sparked',\n 'killed',\n 'appointed',\n 'exhibited',\n 'empowered',\n 'served',\n 'Related',\n 'buoyed',\n 'convinced',\n 'mollified',\n 'rolled',\n 'flooded',\n 'alienated',\n 'chastised',\n 'portrayed',\n 'relied',\n 'recycled',\n 'Asked',\n 'scared',\n 'serviced',\n 'Developed',\n 'converted',\n 'equipped',\n 'classed',\n 'depressed',\n 'enclosed',\n 'dropped',\n 'rarefied',\n 'zoomed',\n 'commanded',\n 'exhausted',\n 'talked',\n 'excited',\n 'overpriced',\n 'stated',\n 'shown',\n 'declared',\n 'postponed',\n 'rescheduled',\n 'clamped',\n 'collapsed',\n 'interested',\n 'escalated',\n 'stoked',\n 'clarified',\n 'crossed',\n 'milked',\n 'assumed',\n 'competed',\n 'borrowed',\n 'squeezed',\n 'switched',\n 'cultivated',\n 'tailored',\n 'troubled',\n 'synchronized',\n 'muffled',\n 'mounted',\n 'filled',\n 'fed',\n 'remarked',\n 'observed',\n 'dressed',\n 'decorated',\n 'unsettled',\n 'Put',\n 'tanked',\n 'invented',\n 'infringed',\n 'hired',\n 'afflicted',\n 'deteriorated',\n 'codified',\n 'discarded',\n 'pointed',\n 'defined',\n 'represented',\n 'consented',\n 'Reached',\n 'rectified',\n 'blocked',\n 'forgotten',\n 'tightened',\n 'reaped',\n 'touted',\n 'negotiated',\n 'Given',\n 'impressed',\n 'engineered',\n 'diversified',\n 'expanded',\n 'provoked',\n 'stripped',\n 'reallocated',\n 'instructed',\n 'drafted',\n 'repaired',\n 'altered',\n 'corrected',\n 'promised',\n 'proved',\n 'understood',\n 'composed',\n 'robbed',\n 'deprived',\n 'impaired',\n 'advised',\n 'mentioned',\n 'contributed',\n 'OFFERED',\n 'Annualized',\n 'clashed',\n 'enjoyed',\n 'recruited',\n 'Provided',\n 'predicated',\n 'endorsed',\n 'construed',\n 'read',\n 'nominated',\n 'wasted',\n 'favored',\n 'disapproved',\n 'ratified',\n 'characterized',\n 'won',\n 'mortgaged',\n 'reclaimed',\n 'parched',\n 'cushioned',\n 'shut',\n 'attempted',\n 'torn',\n 'staid',\n 'flirted',\n 'stepped',\n 'headlined',\n 'beleaguered',\n 'plunged',\n 'missed',\n 'preapproved',\n 'upheld',\n 'accounted',\n 'vested',\n 'shaken',\n 'heated',\n 'exacerbated',\n 'wedded',\n 'headed',\n 'curbed',\n 'entrenched',\n 'stacked',\n 'frightened',\n 'automated',\n 'earned',\n 'spooked',\n 'transformed',\n 'orchestrated',\n 'gored',\n 'proven',\n 'minted',\n 'practiced',\n 'implemented',\n 'feared',\n 'Left',\n 'appropriated',\n 'noticed',\n 'finished',\n 'documented',\n 'colored',\n 'Funded',\n 'Concerned',\n 'echoed',\n 'halted',\n 'recouped',\n 'hunted',\n 'overcome',\n 'terminated',\n 'Rated',\n 'insured',\n 'rated',\n 'looked',\n 'justified',\n 'structured',\n 'generated',\n 'overstated',\n 'midsized',\n 'assessed',\n 'chilled',\n 'hidden',\n 'inserted',\n 'harmed',\n 'stressed',\n 'directed',\n 'stimulated',\n 'overdone',\n 'calculated',\n 'Named',\n 'revised',\n 'conducted',\n 'snapped',\n 'polled',\n 'topped',\n 'outdistanced',\n 'relaunched',\n 'repriced',\n 'concluded',\n 'hailed',\n 'despised',\n 'heightened',\n 'Used',\n 'nullified',\n 'puzzled',\n 'notified',\n 'merged',\n 'delisted',\n 'meant',\n 'own',\n 'singled',\n 'granted',\n 'felt',\n 'confused',\n 'complicated',\n 'muted',\n 'Continued',\n 'magnified',\n 'reimbursed',\n 'controlled',\n 'distributed',\n 'experienced',\n 'customized',\n 'extended',\n 'sweetened',\n 'derived',\n 'averted',\n 'slated',\n 'examined',\n 'reorganized',\n 'plagued',\n 'imposed',\n 'armed',\n 'rigged',\n 'subpoenaed',\n 'planted',\n 'centralized',\n 'resulted',\n 'forecast',\n 'fizzled',\n 'edged',\n 'battered',\n 'floated',\n 'spun',\n 'licensed',\n 'trimmed',\n 'detailed',\n 'born',\n 'fashioned',\n 'bribed',\n 'arrested',\n 'Absorbed',\n 'finalized',\n 'dashed',\n 'omitted',\n 'harvested',\n 'slowed',\n 'depleted',\n 'obligated',\n 'compressed',\n 'delayed',\n 'influenced',\n 'reflected',\n 'advanced',\n 'coated',\n 'shared']"
     },
     "metadata": {},
     "execution_count": 17
    }
   ],
   "source": [
    "wsj = nltk.corpus.treebank.tagged_words()\n",
    "cfd2 = nltk.ConditionalFreqDist((tag, word) for (word, tag) in wsj)\n",
    "list(cfd2['VBN'])"
   ]
  },
  {
   "cell_type": "code",
   "execution_count": 18,
   "metadata": {},
   "outputs": [
    {
     "output_type": "execute_result",
     "data": {
      "text/plain": "[',',\n '.',\n 'accomplished',\n 'analytically',\n 'appear',\n 'apt',\n 'associated',\n 'assuming',\n 'became',\n 'become',\n 'been',\n 'began',\n 'call',\n 'called',\n 'carefully',\n 'chose',\n 'classified',\n 'colorful',\n 'composed',\n 'contain',\n 'differed',\n 'difficult',\n 'encountered',\n 'enough',\n 'equate',\n 'extremely',\n 'found',\n 'happens',\n 'have',\n 'ignored',\n 'in',\n 'involved',\n 'more',\n 'needed',\n 'nightly',\n 'observed',\n 'of',\n 'on',\n 'out',\n 'quite',\n 'represent',\n 'responsible',\n 'revamped',\n 'seclude',\n 'set',\n 'shortened',\n 'sing',\n 'sounded',\n 'stated',\n 'still',\n 'sung',\n 'supported',\n 'than',\n 'to',\n 'when',\n 'work']"
     },
     "metadata": {},
     "execution_count": 18
    }
   ],
   "source": [
    "brown_learned_text = brown.words(categories='learned')\n",
    "sorted(set(b for (a, b) in nltk.bigrams(brown_learned_text) if a == 'often'))"
   ]
  },
  {
   "cell_type": "code",
   "execution_count": 19,
   "metadata": {
    "tags": []
   },
   "outputs": [
    {
     "output_type": "stream",
     "name": "stdout",
     "text": "VERB  ADV  ADP  ADJ    .  PRT \n  37    8    7    6    4    2 \n"
    }
   ],
   "source": [
    "brown_lrnd_tagged = brown.tagged_words(categories='learned', tagset='universal')\n",
    "tags = [b[1] for (a, b) in nltk.bigrams(brown_lrnd_tagged) if a[0] == 'often']\n",
    "fd = nltk.FreqDist(tags)\n",
    "fd.tabulate()"
   ]
  },
  {
   "cell_type": "code",
   "execution_count": 20,
   "metadata": {
    "tags": [
     "outputPrepend"
    ]
   },
   "outputs": [
    {
     "output_type": "stream",
     "name": "stdout",
     "text": "eded to make\nused to deny\nrequired to localize\nfound to protect\nused to demonstrate\nshown to undergo\nextended to include\nshown to undergo\nallowed to go\nused to classify\nfound to keep\nmade to group\ncontinued to supply\nserves to inactivate\nneeded to inactivate\nthought to offer\nserves to extend\nserved to extend\nrequired to accomplish\nfound to compare\nrequired to remove\nrequired to cut\ntends to push\nrequired to cut\nseen to correlate\nbeginning to advance\nmanaged to grow\nstarted to open\nseem to justify\nclaimed to give\nused to denote\nrequired to cause\ncombined to attain\nused to slit\nhope to compete\nhelped to alleviate\ncalculated to expand\nlowered to permit\nappears to produce\nintended to cover\nestablished to cover\nrepeated to evaluate\nvaried to obtain\nvaried to conform\nused to provide\nallowed to reach\nrequired to counteract\nappear to hold\nutilized to alleviate\ninvestigated to allow\nenlarged to require\nemployed to reduce\nwait to see\nadjusted to supply\nutilized to direct\ntried to make\njumping to anticipate\ntried to tempt\nTry to get\nbothered to phone\nallowed to make\ngo to school\nwants to pay\nseemed to speak\nwired to set\ntried to shake\ngoing to follow\nserved to overheat\nseemed to crouch\nseemed to advance\nseemed to resist\nbegan to write\nrefuse to mention\nneeded to eat\nwanting to know\nstop to grasp\ndared to defy\nhoping to store\ngoing to get\nwant to get\ntrying to talk\ndetermined to go\nproposed to rebuild\ngoing to stay\nplan to repair\nHope to see\nused to take\nwant to kill\nintend to go\nwanted to hurt\nbother to think\ndelighted to see\nbegan to weep\nbegan to move\ntried to push\ntried to rescue\nseemed to hold\nbegan to think\nstrove to think\nrun to tell\nfail to hear\ndared to wait\ndared to pat\ntrying to push\nbegan to whirl\nstarted to worry\ntried to push\nwanted to get\ntryin to fuck\ntried to stifle\nseeking to kill\nfailed to check\ntried to shut\nrefuses to believe\nbegun to study\namazed to discover\nappear to reject\ntrying to write\nwant to weep\nlove to know\nlike to know\nseem to think\nstriving to appear\nbegin to get\ncalled to take\nbother to shave\ntried to stop\ngoing to stop\nlike to hear\nitch to relieve\nprefer to eat\nwanted to wipe\nsurvive to talk\nfit to kill\nbegan to whip\nseems to hover\nwaiting to know\nwant to go\ndecided to remain\nappeared to provide\ntried to outface\nturned to smirk\nused to tell\nbegan to speak\ntried to force\nknelt to tell\ntried to live\nseemed to grow\ncontinued to find\ngoing to allow\ncontinued to proclaim\ncame to warn\nrefused to believe\nrefused to agree\nwanted to run\ngoing to comply\nstarted to run\ncrouch to get\nseem to help\nclose to emit\ntwitching to dislodge\ndescended to blot\nstrained to hear\ngoing to let\nbegun to walk\nwanted to take\nwanted to talk\nwant to bring\nconsented to postpone\nmeant to keep\nwant to call\nexpecting to find\ndesigned to serve\nmade to flow\nwanting to draw\npersuaded to come\ntold to ask\nwish to make\npromised to speak\nmoved to distort\nwanted to emphasize\nliking to work\ntries to unteach\nbegan to worry\ntried to insist\nmoving to take\ntried to contain\ntakes to drink\naim to keep\ntried to find\nstopped to say\ntrying to contain\nneeded to say\nforgot to order\nbegan to dance\nplanned to use\nbegan to shave\nbegan to pack\nseemed to care\nrose to speak\ncontinue to plague\nlive to see\npoised to pour\nRemember to call\ntrying to reach\ntried to reach\nused to love\nwants to go\nwanted to wring\ngot to dancing\ntrying to pick\nbegan to laugh\ntrying to find\ngoing to get\nwant to fight\nwanting to sock\ntrying to take\nwant to hear\nseemed to feel\ntrying to help\nwait to get\nexpect to escape\ntry to fathom\nallowed to spend\ntry to make\nwanted to know\ntried to get\ntempted to ask\ndecided to tell\nsurprised to find\nwished to show\nlike to bring\nbeg to inquire\nwanted to visit\nlike to enact\nwished to create\nwish to deceive\nwant to create\ngoing to take\ngoing to lose\nconsented to meet\nrose to go\nchosen to read\nstarted to cross\nseemed to think\nstarted to undo\nlonged to tell\nchose to read\nserved to increase\nrefused to bring\ngot to stop\nwant to take\ntried to order\nseeking to create\nhope to accomplish\nattempt to rise\ntried to rise\nbegan to crawl\nfailed to reach\nbegan to creep\nbegan to crawl\npromised to take\nmeant to shout\nlonged to increase\nwant to begin\nseemed to imply\nstopped to admire\nstayed to visit\nwant to get\ntried to remember\nbegan to riffle\npromise to make\nlike to travel\ntried to repair\nused to play\nbeginning to thin\nfail to let\nlean to reach\ntrying to get\nwant to see\nbeginning to see\nbother to wipe\nfit to shake\ngoing to wake\ncare to get\ntried to stop\nexpected to hear\ngot to expect\ngoing to put\ngot to thaw\nwant to touch\nmade to fall\ncome to rest\ntrying to attain\nstopped to gaze\nbegun to turn\nbeginning to cook\nbegan to develop\nbegun to buy\nwant to thin\nplanned to graduate\ngoing to tell\ntrying to get\nwant to roast\npreferred to sit\nliked to sit\nseemed to come\nplan to conduct\nrequired to detect\nobliged to prepare\nbegan to rise\nattempting to hide\nbegun to protest\ncome to clean\nrose to put\nmanaged to persuade\noffered to prevail\nwant to hear\nfumbling to untie\nwant to leave\ngoing to work\nwant to keep\nlike to think\nbegan to wrap\ngoing to put\nagreed to correspond\nlived to see\nlonging to fall\nask to see\nseemed to stride\nagreed to think\nwished to spend\ndared to ask\nsupposed to buy\nplanning to greet\nbegan to wonder\nrefused to let\nwanted to kill\nwanted to go\nseem to know\ngoing to become\ngoing to kill\nlike to tell\nwant to see\nget to come\nlike to dance\nlike to dance\nwanted to believe\ntrying to put\nstarted to say\nForgot to get\nstarted to say\ntrying to make\nwant to sit\ntrying to get\nwant to lease\nwanted to shadow\ntrying to make\ntried to shadow\ngoing to join\ntry to keep\nlike to run\nwanted to case\ngoing to join\nwanted to hang\ngo to pick\nbegan to back\npaused to feel\ndecided to risk\nturned to face\nbegan to feel\nstarted to sweep\nstartled to find\nmeant to convey\ngoing to leave\nreturning to seek\nbother to look\ntry to run\ngoing to make\nbegan to wave\ngone to get\nWant to try\ngoing to call\nwant to find\nwant to see\ndesigned to put\nturned to see\nforced to use\ntrying to drag\nstart to angle\ntried to flatten\nmanaged to hunch\nbrought to make\nsurprised to find\nstarted to back\nwant to try\ntrying to catch\nused to keep\nforget to turn\npromised to observe\nstarted to plod\ntried to turn\nbeginning to feel\ndecided to indulge\nforgotten to turn\nmeant to shut\nwant to leave\nwant to go\ngot to remember\ngot to put\nthreaten to call\nneed to take\ngoing to get\nget to know\npaused to look\nseemed to remember\nHappened to hear\ngot to get\nbegun to tell\nbegun to question\nbegan to doubt\nwished to frighten\nneed to break\nwished to make\ntried to give\ngot to eat\nattempt to frighten\ntrying to find\nwant to talk\nrefusing to bear\nTry to find\nwant to go\nlike to make\ngoing to go\nRemember to tell\nwanted to know\ntried to think\ntried to make\nbegan to nod\nbegan to sink\ntried to think\ntried to explain\ngoing to die\ngoing to die\nmanaged to cover\ngoing to believe\nexpected to stand\nmade to include\nbothering to whisper\nwaiting to see\nagreed to fill\nwaiting to report\ngoing to like\ngoing to louse\ninstalled to film\ngoing to see\nexpect to get\ngoing to stand\ntry to stop\ngoing to ask\nhoping to hear\nconstrained to add\nwants to pass\ntry to phone\nlike to sing\nforced to undergo\nsupposed to make\nwants to ask\ndecided to let\ngot to go\ntried to ignore\ngoing to keep\nstartled to meet\ncame to examine\ntried to bring\nreaching to release\nwaiting to report\nused to paint\nBegin to look\nwanted to see\nFailing to find\nTry to forget\nseen to leave\nforced to give\ninclined to admit\nbegan to make\nprofessed to know\nasked to use\nleaving to keep\nfit to consult\nasked to see\nwanted to make\ncontinued to discharge\nseem to belong\nbegan to flicker\ntrying to wreck\nfit to touch\ngoing to take\ntrying to clear\nwant to spend\npaused to look\ngoing to allow\nlike to talk\nplanning to set\nbent to examine\nturned to jump\nstarted to retch\ngoing to get\ncome to recognize\nexpected to report\nfailed to see\nfailed to notify\nfailed to co-operate\nstopping to hear\nwant to talk\ngoing to cost\nwanted to ask\ngoing to get\ngoing to swear\ntried to keep\nthink to look\ntried to find\nbear to hold\nbegan to pace\ntried to tell\nintended to scare\nbegan to think\nhired to take\ngoing to send\nhelped to create\nwanted to give\nled to believe\ntrying to escape\nbegan to thrash\nget to work\ncome to work\nwant to see\nwanted to get\nwant to go\nmanaged to swallow\nthreatened to fire\nhappen to see\ngoing to eat\nbegan to weep\nhappens to ask\nwant to rent\nTry to imagine\npromised to pay\nplanning to remarry\ndetermined to get\nseemed to swell\nsurprised to meet\ntrying to tell\nknown to run\nseem to preserve\ngot to understand\ngot to know\ncame to ask\nasked to see\nbegan to abuse\nhurry to hang\nseemed to mind\nstarted to cross\nstarted to curse\noffering to buy\nbegan to feel\nseem to wink\ncontinued to stare\nbeginning to feel\nlike to listen\nwant to study\nrelieved to see\nseemed to notice\ndecided to stay\nstartled to see\nbegan to feel\nbothered to ask\nbeginning to take\nbegan to wish\nwant to encourage\nbegan to talk\npaused to moisten\nwent to join\ngot to go\ntrying to get\nwant to know\nwant to take\nwant to leave\ngot to assume\ngot to keep\nburning to light\ndecided to leave\nset to stay\ngoing to kill\ngo to bat\nstopped to cherish\nstruggling to bridge\nlearning to think\ndelighted to encounter\nwanted to explain\ntaught to grow\nTaught to grow\nopened to sell\nrequired to assume\nwant to make\ngot to hold\nwant to inquire\nseemed to spend\npreoccupied to cook\nasked to speak\npacing to stare\nwished to make\nbegan to build\nneeded to carry\nmeaning to live\nagreed to help\nagreed to take\ncontract to let\nrefused to believe\nmeant to invade\ngoing to turn\ngot to intercept\npermitted to go\nfailed to anticipate\nneeded to make\nuse to make\nhelp to repel\nseems to shield\npretending to sleep\nthreatening to report\nseem to concentrate\nwant to give\ntrying to pull\nadjusted to operate\nlike to see\nbent to observe\nforced to accompany\nfear to tread\nprogramed to compute\nremember to program\ndirected to develop\nschooled to examine\nappeared to require\nencouraged to develop\nremembered to introduce\nguided to make\ntried to run\ntried to tell\ntried to ask\nwant to ask\ngoing to come\ngoing to happen\ngoing to happen\ngoing to take\ninclined to think\nmanage to follow\nwanting to tell\ntried to write\nexhausted to stay\nafford to lose\nafford to pay\nused to work\ngoing to give\nbegan to rock\ntried to call\nstoop to catch\nbegan to paw\nbegan to nod\nhate to leave\nwant to leave\ngroped to reassemble\nbegun to blow\nbegan to dissolve\nmeant to help\nbegan to tire\nriding to kill\ngot to get\ntrying to decide\ntry to cut\nbegan to weep\ngoing to walk\ntried to veer\nmanaged to bat\nTry to find\nbegan to explode\nracing to join\nbegan to snap\nbegan to buckle\nwant to go\nseem to think\ngoin' to move\ngoin' to go\ngoin' to help\nemployed to live\ntrying to keep\ntry to cut\ngoing to wait\nstarted to slump\nstarted to run\ngoin' to kill\nfighting to hold\nstarted to slump\nforgot to aim\nstarted to raise\nseem to tell\nwant to see\nmeant to insult\nmeant to say\ntried to step\ntried to break\nseemed to pull\nseemed to change\nwant to know\nstart to work\nstraining to stay\nGo to sleep\nstop to graze\nbothered to speak\nattempted to salvage\nseemed to indicate\nattempted to form\ntried to pick\nappeared to disapprove\nexpected to find\ndecided to see\ngo to look\nwished to prepare\nhoping to see\ncease to feel\nforced to admit\nexpect to see\nliked to liberate\nrelieved to see\ntry to thank\nlike to starve\nhoped to succeed\nhated to answer\ngot to get\nswung to see\noffered to walk\nwanted to avoid\ndared to enter\nfailing to understand\npause to consider\nchose to ignore\ndare to face\ncontinued to move\nstarted to brush\ntrying to focus\ntried to fling\nwant to tell\nattempted to kiss\ngoing to listen\ngoing to listen\nwant to miss\ngoin' to say\ngoing to take\nsupposed to walk\nwaiting to catch\nlike to bother\nattempted to push\ngoing to kill\ngoing to kill\ntrying to keep\nseeming to like\ngot to take\ngoing to need\nwant to put\nhoped to catch\nwent to look\nwanting to unlock\namazed to see\nrefused to give\ntried to lift\nforced to agree\nfails to substantiate\nwants to see\nbeginning to get\ncontinued to smile\nturned to add\nwanted to get\ncontinued to snort\nstarted to reach\nbeginning to recover\ngoing to talk\nlike to kill\ngoing to hear\nwanted to hear\ncame to investigate\nmanaged to duck\nbegan to focus\ntrying to yank\nbegan to snort\nwanted to show\ntried to start\ngoing to let\ngoing to fight\nattempting to speak\nlonging to catch\nrejoicing to think\nlike to get\ntried to go\nseemed to make\naim to give\nwant to trade\nbeginning to turn\nforced to maintain\nhope to locate\npaused to gather\nbothering to note\nturned to survey\nstarted to struggle\nstarted to return\npretended to give\nserved to increase\ndetermined to drive\ntry to go\nbegan to run\ncontinued to come\ncontinued to camouflage\nForced to realize\ntrying to grab\ntrying to read\nbegan to drink\nstarted to slide\nmean to pry\ngoing to sell\npleased to hear\nstarting to itch\nlike to think\nsupposed to meet\nwait to get\nseem to dwell\nfeared to dwell\ntried to date\ntrying to cut\nbeginning to collect\ndetermined to find\nput to use\ndetermined to spend\nhoping to escape\npleased to note\ncalculated to glamorize\nbegan to explain\nwant to see\nwanted to turn\nbegan to whip\nfailed to find\nmeant to save\nwanted to waste\nwant to get\ngoing to explode\nseemed to disintegrate\nintended to propitiate\nembarrassing to see\ngoing to keel\nseemed to enjoy\nlike to know\ndeserve to lie\nwant to see\npretending to joke\nused to try\ntrying to look\nbegan to watch\nwant to go\nseemed to sink\nbegan to ooze\nbegan to move\nseemed to know\ntrying to talk\ncontinued to lash\nturned to look\nstruggled to control\ndeserved to live\nlike to hunt\nleft to say\nlike to recognize\nwanting to fly\ndispatched to harry\nstarted to buckle\nbegan to crawl\nwanted to lose\ngoing to show\ngoing to give\ntrying to size\nseemed to promise\nhate to run\nturned to face\nwish to enter\nintend to speak\ndetermined to make\nwant to upset\nresolved to make\nleft to distract\nvied to knock\nequipped to die\ntried to roll\ncommenced to weep\nbegan to uncap\ngoing to get\nexpected to risk\ndecided to set\nseem to locate\nallowed to come\nallowed to leave\nsent to clean\nproceeded to disturb\ncame to teach\nwait to get\nget to school\nbeginning to stir\ngot to get\nseemed to think\ntrying to get\nstruggling to get\nmean to pull\ngot to take\ntrying to think\nseeming to scream\nsought to make\nproceeded to give\nadvised to flee\nlike to hurt\nhurt to beat\nwant to go\nchanced to glance\nvowed to take\nstarted to move\nbegan to sizzle\ncared to see\ntime to pay\ndetermined to hold\nbeginning to fold\nwanted to smoke\nseem to get\ntrying to find\nlike to keep\nseem to snap\nlike to think\nbeginning to find\nbeginning to look\ngoing to last\ngoing to prove\nhoped to die\ngone to live\nstayed to get\nturned to go\ngoing to see\ngoing to laugh\ntried to bite\nseem to rise\ncome to see\ngot to know\nseem to take\nbeginning to creep\nseemed to rain\nlike to hear\ncome to make\nstarted to move\nbent to pick\npermitted to operate\nbeginning to get\nseemed to think\ntried to make\nwanted to present\nexpected to stay\nwish to start\ngot to run\nlike to talk\ndisappointed to find\ntried to reason\ntrying to close\nwant to help\nsurprised to see\ntrying to find\nneglected to play\nwanted to call\nlike to offer\nwant to say\nwished to see\noverheard to say\nlike to get\nexpected to perform\ngoing to bring\nseek to storm\nused to defend\nshocked to find\nhesitate to speak\nbeginning to study\ngrow to devote\nwish to turn\ngoing to fail\nwished to change\nwanted to take\nwanted to bring\nlike to know\nintend to marry\nbegan to talk\nused to play\ntrying to get\nhappen to drive\nhating to get\ntry to walk\nleft to believe\ntried to rest\ndying to defend\nused to kid\nwanted to paint\ngoing to organize\ntry to paint\nused to hang\nprepared to worship\nwant to stir\nbeginning to gather\ntried to believe\nused to say\nbegan to shudder\ncome to understand\ncome to see\ncalled to say\ndecided to cremate\nwant to meet\nimpelled to kneel\ntrying to touch\ntrying to flatter\ntrying to worry\ntrying to worry\nwant to go\nlike to take\nwanted to know\ntrying to get\ngone to purify\nwaiting to see\ncome to skirt\ntrying to make\ngo to sleep\ntried to emulate\nbegan to pulse\namazed to find\nkneeling to tie\ntrying to get\ntrying to smile\nseemed to float\ntried to see\nstop to analyze\nsupposed to joke\nsupposed to handle\nwant to ask\ngot to admit\ntried to leave\nbegan to walk\nsupposed to stay\ngoing to tell\ngoing to get\nintended to make\nbegan to zip\nobliged to roll\nwant to stop\ngoing to marry\nliked to hear\ntempted to tell\nseemed to mark\ntried to explain\nmanaged to look\nneeded to get\nanswered to find\nafford to get\nstarted to look\ntakes to get\ngoing to get\ntried to quiet\ntrying to sound\ncame to meet\nseemed to focus\nwant to talk\nwant to see\nwants to get\nwent to turn\nsurprised to find\nwant to stay\ngoing to make\nhoped to dig\ntrying to make\ngoing to lug\nsurprised to see\nstop to read\nintended to move\nrising to sting\narranged to live\nmanaged to find\ninclined to wobble\nsupposed to care\nshuddered to think\nseemed to understand\naroused to go\nhate to call\nwish to leave\nseemed to follow\nsupposed to matter\nbothered to tell\nhesitate to use\nused to say\ntry to persuade\nwanted to keep\ntrying to keep\nblushed to admit\nwant to continue\nchosen to represent\nwant to leave\nwanted to work\nseemed to regard\nforbore to mention\nmanaged to open\nwant to encourage\nwant to watch\nremember to warn\nused to take\nwant to use\nstarted to throw\nbegan to swing\nstarted to carry\nbegan to look\ngoing to happen\nbegan to walk\ntrying to say\ntrying to say\nstarted to say\nwants to take\nstarted to take\nbegan to fascinate\nleft to spend\nseemed to work\nwork to grow\ntrying to talk\nlied to shorten\ntrying to make\nwanted to force\nrefused to take\nseemed to please\ngrew to depend\nmeant to tell\ntrying to pull\nseemed to shiver\ntrying to remember\nworked to recall\nwished to call\nseemed to stare\nbegan to tremble\nrefusing to think\nrefusing to think\nhoping to frighten\nwanted to run\nbegan to ache\nbegan to bother\ntried to take\nwanted to kill\nstopped to see\ngoing to tell\ngoing to push\nwanted to slap\nstarted to type\nhelped to build\nrefused to drive\nwanted to go\nlikes to play\nlike to rise\ntried to push\ntrying to run\ntried to make\nused to say\ncome to exist\nfit to put\nstoop to lift\nwanted to draw\ngoing to pick\nintended to wait\ndetermined to foil\nstrode to answer\ntrusted to carry\nseemed to help\nchose to come\ntried to ignore\nliked to break\nbegan to aid\ngoing to tear\nlike to exhibit\nforced to make\nhate to admit\ngot to decide\ntried to sell\ntry to swing\nexpect to call\npaused to get\nproceeded to search\nbegan to suspect\nendeavoring to cut\nwanted to know\ndaring to commit\ngiven to dig\nurged to attend\nrefused to receive\nbeckoned to cross\ntaken to keep\ntrying to hold\nmanaging to get\npromised to illustrate\npretending to black\nwanted to remind\nResolving to get\nstarted to start\nstarting to woolgather\nbound to get\nwanted to keep\nlooked to see\nchosen to complement\nlive to hear\nleaping to light\ntrying to prove\ntrying to determine\nsupposed to put\nproceeded to neglect\ncare to count\nshuddered to think\ntelephoned to announce\nneglected to consider\ntrouble to memorize\ndeigned to appear\nseemed to understand\ntry to revive\nseemed to produce\nreturning to jump\ntried to farm\ngoing to set\nturned to stare\nseem to think\nliked to hire\nremember to telephone\nlike to work\nlike to disclose\ngot to put\ngot to run\nwaiting to get\nneed to worry\nseems to think\ntries to baffle\nmean to reconsider\nrefused to make\nseems to make\nseems to refer\nseems to say\ndelighted to meet\nlike to know\nregret to say\nseems to refer\ncome to talk\nseem to remember\nwant to hear\ntrying to get\nforgot to say\nseemed to believe\nwanted to get\nwanted to see\nwanted to touch\ngot to entertain\ntried to keep\ngoing to tell\nthought to mix\ngoing to jump\nbeginning to catch\ntry to see\nphoned to say\nbothering to look\nforced to wipe\nused to pretend\nrefused to approach\nused to express\nproceeds to lash\nused to hang\nseeks to expunge\ntrying to redeem\nseemed to take\ntried to conceal\ncame to know\nrefuses to continue\ncontinue to scrape\ngiven to understand\npropose to vent\nproceeded to mask\nwithhold to keep\nbegin to wither\nhelp to intensify\nseems to overtake\nwant to buy\n"
    }
   ],
   "source": [
    "from nltk.corpus import brown\n",
    "def process(sentence):\n",
    "    for (w1,t1), (w2,t2), (w3,t3) in nltk.trigrams(sentence):\n",
    "        if (t1.startswith('V') and t2 == 'TO' and t3.startswith('V')):\n",
    "            print(w1, w2, w3)\n",
    "\n",
    "\n",
    "for tagged_sent in brown.tagged_sents():\n",
    "    process(tagged_sent)"
   ]
  },
  {
   "cell_type": "code",
   "execution_count": 21,
   "metadata": {},
   "outputs": [],
   "source": [
    "from nltk.corpus import brown\n",
    "brown_tagged_sents = brown.tagged_sents(categories='news')\n",
    "brown_sents = brown.sents(categories='news')"
   ]
  },
  {
   "cell_type": "code",
   "execution_count": 22,
   "metadata": {},
   "outputs": [
    {
     "output_type": "execute_result",
     "data": {
      "text/plain": "'NN'"
     },
     "metadata": {},
     "execution_count": 22
    }
   ],
   "source": [
    "tags = [tag for (word, tag) in brown.tagged_words(categories='news')]\n",
    "nltk.FreqDist(tags).max()"
   ]
  },
  {
   "cell_type": "code",
   "execution_count": 23,
   "metadata": {},
   "outputs": [
    {
     "output_type": "execute_result",
     "data": {
      "text/plain": "[('I', 'NN'),\n ('do', 'NN'),\n ('not', 'NN'),\n ('like', 'NN'),\n ('green', 'NN'),\n ('eggs', 'NN'),\n ('and', 'NN'),\n ('ham', 'NN'),\n (',', 'NN'),\n ('I', 'NN'),\n ('do', 'NN'),\n ('not', 'NN'),\n ('like', 'NN'),\n ('them', 'NN'),\n ('Sam', 'NN'),\n ('I', 'NN'),\n ('am', 'NN'),\n ('!', 'NN')]"
     },
     "metadata": {},
     "execution_count": 23
    }
   ],
   "source": [
    "raw = 'I do not like green eggs and ham, I do not like them Sam I am!'\n",
    "tokens = nltk.word_tokenize(raw)\n",
    "default_tagger = nltk.DefaultTagger('NN')\n",
    "default_tagger.tag(tokens)"
   ]
  },
  {
   "cell_type": "code",
   "execution_count": 24,
   "metadata": {},
   "outputs": [
    {
     "output_type": "execute_result",
     "data": {
      "text/plain": "0.13089484257215028"
     },
     "metadata": {},
     "execution_count": 24
    }
   ],
   "source": [
    "default_tagger.evaluate(brown_tagged_sents)"
   ]
  },
  {
   "cell_type": "code",
   "execution_count": 25,
   "metadata": {
    "tags": []
   },
   "outputs": [
    {
     "output_type": "stream",
     "name": "stdout",
     "text": "{'the': 'AT', ',': ',', '.': '.', 'of': 'IN', 'and': 'CC', 'to': 'TO', 'a': 'AT', 'in': 'IN', 'for': 'IN', 'The': 'AT', 'that': 'CS', '``': '``', 'is': 'BEZ', 'was': 'BEDZ', \"''\": \"''\", 'on': 'IN', 'at': 'IN', 'with': 'IN', 'be': 'BE', 'by': 'IN', 'as': 'CS', 'he': 'PPS', 'said': 'VBD', 'his': 'PP$', 'will': 'MD', 'it': 'PPS', 'from': 'IN', 'are': 'BER', ';': '.', 'an': 'AT', 'has': 'HVZ', '--': '--', 'had': 'HVD', 'who': 'WPS', 'have': 'HV', 'not': '*', 'Mrs.': 'NP', 'were': 'BED', 'this': 'DT', 'which': 'WDT', 'would': 'MD', 'their': 'PP$', 'been': 'BEN', 'they': 'PPSS', 'He': 'PPS', 'one': 'CD', 'I': 'PPSS', 'but': 'CC', 'its': 'PP$', 'or': 'CC', ')': ')', 'more': 'AP', 'Mr.': 'NP', '(': '(', 'up': 'RP', 'all': 'ABN', 'out': 'RP', 'last': 'AP', 'two': 'CD', 'other': 'AP', ':': ':', 'new': 'JJ', 'first': 'OD', 'than': 'IN', 'year': 'NN', 'A': 'AT', 'about': 'IN', 'there': 'EX', 'when': 'WRB', 'home': 'NN', 'after': 'IN', 'In': 'IN', 'also': 'RB', 'It': 'PPS', 'over': 'IN', 'into': 'IN', 'no': 'AT', 'But': 'CC', 'made': 'VBN', 'only': 'AP', 'her': 'PP$', 'years': 'NNS', 'time': 'NN', 'three': 'CD', 'them': 'PPO', 'some': 'DTI', 'can': 'MD', 'him': 'PPO', 'New': 'JJ-TL', 'any': 'DTI', 'state': 'NN', '?': '.', 'President': 'NN-TL', 'before': 'IN', 'week': 'NN', 'could': 'MD', 'under': 'IN', 'against': 'IN', 'we': 'PPSS', 'what': 'WDT'}\n"
    },
    {
     "output_type": "execute_result",
     "data": {
      "text/plain": "0.5817769556656125"
     },
     "metadata": {},
     "execution_count": 25
    }
   ],
   "source": [
    "fd = nltk.FreqDist(brown.words(categories='news'))\n",
    "cfd = nltk.ConditionalFreqDist(brown.tagged_words(categories='news'))\n",
    "most_freq_words = fd.most_common(100)\n",
    "likely_tags = dict((word, cfd[word].max()) for (word, _) in most_freq_words)\n",
    "print(likely_tags)\n",
    "baseline_tagger = nltk.UnigramTagger(model=likely_tags, backoff=nltk.DefaultTagger('NN'))\n",
    "baseline_tagger.evaluate(brown_tagged_sents)"
   ]
  },
  {
   "cell_type": "code",
   "execution_count": 26,
   "metadata": {},
   "outputs": [
    {
     "output_type": "execute_result",
     "data": {
      "text/plain": "[('``', '``'),\n ('Only', 'NN'),\n ('a', 'AT'),\n ('relative', 'NN'),\n ('handful', 'NN'),\n ('of', 'IN'),\n ('such', 'NN'),\n ('reports', 'NN'),\n ('was', 'BEDZ'),\n ('received', 'NN'),\n (\"''\", \"''\"),\n (',', ','),\n ('the', 'AT'),\n ('jury', 'NN'),\n ('said', 'VBD'),\n (',', ','),\n ('``', '``'),\n ('considering', 'NN'),\n ('the', 'AT'),\n ('widespread', 'NN'),\n ('interest', 'NN'),\n ('in', 'IN'),\n ('the', 'AT'),\n ('election', 'NN'),\n (',', ','),\n ('the', 'AT'),\n ('number', 'NN'),\n ('of', 'IN'),\n ('voters', 'NN'),\n ('and', 'CC'),\n ('the', 'AT'),\n ('size', 'NN'),\n ('of', 'IN'),\n ('this', 'DT'),\n ('city', 'NN'),\n (\"''\", \"''\"),\n ('.', '.')]"
     },
     "metadata": {},
     "execution_count": 26
    }
   ],
   "source": [
    "sent = brown.sents(categories='news')[3]\n",
    "baseline_tagger.tag(sent)"
   ]
  },
  {
   "cell_type": "code",
   "execution_count": 27,
   "metadata": {},
   "outputs": [
    {
     "output_type": "execute_result",
     "data": {
      "text/plain": "[('Various', 'JJ'),\n ('of', 'IN'),\n ('the', 'AT'),\n ('apartments', 'NNS'),\n ('are', 'BER'),\n ('of', 'IN'),\n ('the', 'AT'),\n ('terrace', 'NN'),\n ('type', 'NN'),\n (',', ','),\n ('being', 'BEG'),\n ('on', 'IN'),\n ('the', 'AT'),\n ('ground', 'NN'),\n ('floor', 'NN'),\n ('so', 'QL'),\n ('that', 'CS'),\n ('entrance', 'NN'),\n ('is', 'BEZ'),\n ('direct', 'JJ'),\n ('.', '.')]"
     },
     "metadata": {},
     "execution_count": 27
    }
   ],
   "source": [
    "from nltk.corpus import brown\n",
    "brown_tagged_sents = brown.tagged_sents(categories='news')\n",
    "brown_sents = brown.sents(categories='news')\n",
    "unigram_tagger = nltk.UnigramTagger(brown_tagged_sents)\n",
    "unigram_tagger.tag(brown_sents[2007])"
   ]
  },
  {
   "cell_type": "code",
   "execution_count": 28,
   "metadata": {},
   "outputs": [
    {
     "output_type": "execute_result",
     "data": {
      "text/plain": "0.9349006503968017"
     },
     "metadata": {},
     "execution_count": 28
    }
   ],
   "source": [
    "unigram_tagger.evaluate(brown_tagged_sents)"
   ]
  },
  {
   "cell_type": "code",
   "execution_count": 29,
   "metadata": {},
   "outputs": [
    {
     "output_type": "execute_result",
     "data": {
      "text/plain": "0.8121200039868434"
     },
     "metadata": {},
     "execution_count": 29
    }
   ],
   "source": [
    "size = int(len(brown_tagged_sents) * 0.9)\n",
    "train_sents = brown_tagged_sents[:size]\n",
    "test_sents = brown_tagged_sents[size:]\n",
    "unigram_tagger = nltk.UnigramTagger(train_sents)\n",
    "unigram_tagger.evaluate(test_sents)"
   ]
  },
  {
   "cell_type": "code",
   "execution_count": 30,
   "metadata": {},
   "outputs": [
    {
     "output_type": "execute_result",
     "data": {
      "text/plain": "[('Various', 'JJ'),\n ('of', 'IN'),\n ('the', 'AT'),\n ('apartments', 'NNS'),\n ('are', 'BER'),\n ('of', 'IN'),\n ('the', 'AT'),\n ('terrace', 'NN'),\n ('type', 'NN'),\n (',', ','),\n ('being', 'BEG'),\n ('on', 'IN'),\n ('the', 'AT'),\n ('ground', 'NN'),\n ('floor', 'NN'),\n ('so', 'CS'),\n ('that', 'CS'),\n ('entrance', 'NN'),\n ('is', 'BEZ'),\n ('direct', 'JJ'),\n ('.', '.')]"
     },
     "metadata": {},
     "execution_count": 30
    }
   ],
   "source": [
    "bigram_tagger = nltk.BigramTagger(train_sents)\n",
    "bigram_tagger.tag(brown_sents[2007])"
   ]
  },
  {
   "cell_type": "code",
   "execution_count": 31,
   "metadata": {},
   "outputs": [
    {
     "output_type": "execute_result",
     "data": {
      "text/plain": "[('The', 'AT'),\n ('population', 'NN'),\n ('of', 'IN'),\n ('the', 'AT'),\n ('Congo', 'NP'),\n ('is', 'BEZ'),\n ('13.5', None),\n ('million', None),\n (',', None),\n ('divided', None),\n ('into', None),\n ('at', None),\n ('least', None),\n ('seven', None),\n ('major', None),\n ('``', None),\n ('culture', None),\n ('clusters', None),\n (\"''\", None),\n ('and', None),\n ('innumerable', None),\n ('tribes', None),\n ('speaking', None),\n ('400', None),\n ('separate', None),\n ('dialects', None),\n ('.', None)]"
     },
     "metadata": {},
     "execution_count": 31
    }
   ],
   "source": [
    "bigram_tagger.tag(brown_sents[4203])"
   ]
  },
  {
   "cell_type": "code",
   "execution_count": 32,
   "metadata": {},
   "outputs": [
    {
     "output_type": "execute_result",
     "data": {
      "text/plain": "0.10206319146815508"
     },
     "metadata": {},
     "execution_count": 32
    }
   ],
   "source": [
    "bigram_tagger.evaluate(test_sents)"
   ]
  },
  {
   "cell_type": "code",
   "execution_count": 33,
   "metadata": {},
   "outputs": [
    {
     "output_type": "execute_result",
     "data": {
      "text/plain": "0.8452108043456593"
     },
     "metadata": {},
     "execution_count": 33
    }
   ],
   "source": [
    "t0 = nltk.DefaultTagger('NN')\n",
    "t1 = nltk.UnigramTagger(train_sents, backoff=t0)\n",
    "t2 = nltk.BigramTagger(train_sents, backoff=t1)\n",
    "t2.evaluate(test_sents)"
   ]
  },
  {
   "cell_type": "code",
   "execution_count": null,
   "metadata": {},
   "outputs": [],
   "source": []
  }
 ],
 "metadata": {
  "kernelspec": {
   "display_name": "Python 3",
   "language": "python",
   "name": "python3"
  },
  "language_info": {
   "codemirror_mode": {
    "name": "ipython",
    "version": 3
   },
   "file_extension": ".py",
   "mimetype": "text/x-python",
   "name": "python",
   "nbconvert_exporter": "python",
   "pygments_lexer": "ipython3",
   "version": "3.7.7-final"
  }
 },
 "nbformat": 4,
 "nbformat_minor": 4
}